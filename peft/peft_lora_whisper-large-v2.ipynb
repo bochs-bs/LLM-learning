{
 "cells": [
  {
   "cell_type": "code",
   "execution_count": 1,
   "id": "8801650e-6666-412a-981f-1f8933d5df55",
   "metadata": {
    "execution": {
     "iopub.execute_input": "2024-04-06T03:36:38.905095Z",
     "iopub.status.busy": "2024-04-06T03:36:38.905095Z",
     "iopub.status.idle": "2024-04-06T03:36:38.907784Z",
     "shell.execute_reply": "2024-04-06T03:36:38.907784Z",
     "shell.execute_reply.started": "2024-04-06T03:36:38.905095Z"
    }
   },
   "outputs": [],
   "source": [
    "# 第七章作业\n",
    "# 作业1： 为中文语料的训练过程增加过程评估，观察 Train Loss 和 Validation Loss 变化\n",
    "# 作业2： 当 LoRA 模型训练完成后，使用测试集进行完整的模型评估\n",
    "\n",
    "import os\n",
    "\n",
    "os.environ['HF_HOME'] = 'D:\\MTIDE\\.cache\\huggingface'\n",
    "os.environ['HF_HUB_CACHE'] = 'D:\\MTIDE\\.cache\\huggingface\\hub'\n",
    "\n",
    "# 使用预先从 HuggingFace 下载的模型文件\n",
    "# model_name_or_path = \"openai/whisper-large-v2\"\n",
    "model_name_or_path = \"D:\\MTIDE\\code\\AI\\models\\openai\\whisper-large-v2\"\n",
    "model_dir = \"models/whisper-large-v2-asr-int8\"\n",
    "\n",
    "language = \"Chinese (China)\"\n",
    "language_abbr = \"zh-CN\"\n",
    "task = \"transcribe\"\n",
    "dataset_name = \"mozilla-foundation/common_voice_11_0\"\n",
    "\n",
    "batch_size=64"
   ]
  },
  {
   "cell_type": "code",
   "execution_count": 2,
   "id": "87f14fcf-edbf-4641-91c8-ee0372fa503e",
   "metadata": {
    "execution": {
     "iopub.execute_input": "2024-04-06T03:36:43.066875Z",
     "iopub.status.busy": "2024-04-06T03:36:43.066875Z",
     "iopub.status.idle": "2024-04-06T03:37:26.987330Z",
     "shell.execute_reply": "2024-04-06T03:37:26.987330Z",
     "shell.execute_reply.started": "2024-04-06T03:36:43.066875Z"
    }
   },
   "outputs": [
    {
     "name": "stderr",
     "output_type": "stream",
     "text": [
      "Using the latest cached version of the module from D:\\MTIDE\\.cache\\huggingface\\modules\\datasets_modules\\datasets\\mozilla-foundation--common_voice_11_0\\3f27acf10f303eac5b6fbbbe02495aeddb46ecffdb0a2fe3507fcfbf89094631 (last modified on Thu Apr  4 09:35:09 2024) since it couldn't be found locally at mozilla-foundation/common_voice_11_0, or remotely on the Hugging Face Hub.\n",
      "Using the latest cached version of the module from D:\\MTIDE\\.cache\\huggingface\\modules\\datasets_modules\\datasets\\mozilla-foundation--common_voice_11_0\\3f27acf10f303eac5b6fbbbe02495aeddb46ecffdb0a2fe3507fcfbf89094631 (last modified on Thu Apr  4 09:35:09 2024) since it couldn't be found locally at mozilla-foundation/common_voice_11_0, or remotely on the Hugging Face Hub.\n"
     ]
    },
    {
     "data": {
      "text/plain": [
       "{'client_id': '95368aab163e0387e4fd4991b4f2d8ccfbd4364bf656c860230501fd27dcedf087773e4695a6cf5de9c4f1d406d582283190d065cdfa36b0e2b060cffaca977e',\n",
       " 'path': 'D:\\\\MTIDE\\\\.cache\\\\huggingface\\\\datasets\\\\downloads\\\\extracted\\\\5a1272cb9d9c2c5186fd3ba36bea5516dfbff81f79542179e5bd1d399d38acb2\\\\zh-CN_train_0/common_voice_zh-CN_33211332.mp3',\n",
       " 'audio': {'path': 'D:\\\\MTIDE\\\\.cache\\\\huggingface\\\\datasets\\\\downloads\\\\extracted\\\\5a1272cb9d9c2c5186fd3ba36bea5516dfbff81f79542179e5bd1d399d38acb2\\\\zh-CN_train_0/common_voice_zh-CN_33211332.mp3',\n",
       "  'array': array([-9.09494702e-13, -2.50111043e-12, -2.04636308e-12, ...,\n",
       "          1.21667417e-05,  3.23003815e-06, -2.43064278e-07]),\n",
       "  'sampling_rate': 48000},\n",
       " 'sentence': '性喜温暖润湿气候且耐寒。',\n",
       " 'up_votes': 2,\n",
       " 'down_votes': 0,\n",
       " 'age': '',\n",
       " 'gender': '',\n",
       " 'accent': '',\n",
       " 'locale': 'zh-CN',\n",
       " 'segment': ''}"
      ]
     },
     "execution_count": 2,
     "metadata": {},
     "output_type": "execute_result"
    }
   ],
   "source": [
    "# 下载数据集\n",
    "\n",
    "from datasets import load_dataset, DatasetDict\n",
    "\n",
    "common_voice = DatasetDict()\n",
    "\n",
    "common_voice[\"train\"] = load_dataset(dataset_name, language_abbr, split=\"train\", trust_remote_code=True)\n",
    "common_voice[\"validation\"] = load_dataset(dataset_name, language_abbr, split=\"validation\", trust_remote_code=True)\n",
    "\n",
    "common_voice[\"train\"][0]"
   ]
  },
  {
   "cell_type": "code",
   "execution_count": 4,
   "id": "c4d221ac-da4f-4f2a-be5c-2ea8972d3382",
   "metadata": {
    "execution": {
     "iopub.execute_input": "2024-04-06T03:38:56.095957Z",
     "iopub.status.busy": "2024-04-06T03:38:56.095957Z",
     "iopub.status.idle": "2024-04-06T04:17:26.562209Z",
     "shell.execute_reply": "2024-04-06T04:17:26.562209Z",
     "shell.execute_reply.started": "2024-04-06T03:38:56.095957Z"
    }
   },
   "outputs": [
    {
     "name": "stderr",
     "output_type": "stream",
     "text": [
      "Special tokens have been added in the vocabulary, make sure the associated word embeddings are fine-tuned or trained.\n",
      "Special tokens have been added in the vocabulary, make sure the associated word embeddings are fine-tuned or trained.\n"
     ]
    },
    {
     "data": {
      "application/vnd.jupyter.widget-view+json": {
       "model_id": "f737a5324de64093ba1c6938e63bafa0",
       "version_major": 2,
       "version_minor": 0
      },
      "text/plain": [
       "Map:   0%|          | 0/29056 [00:00<?, ? examples/s]"
      ]
     },
     "metadata": {},
     "output_type": "display_data"
    },
    {
     "data": {
      "application/vnd.jupyter.widget-view+json": {
       "model_id": "ae095ea7547b4564b7c5ff58fdc6246c",
       "version_major": 2,
       "version_minor": 0
      },
      "text/plain": [
       "Map:   0%|          | 0/10581 [00:00<?, ? examples/s]"
      ]
     },
     "metadata": {},
     "output_type": "display_data"
    },
    {
     "data": {
      "text/plain": [
       "DatasetDict({\n",
       "    train: Dataset({\n",
       "        features: ['audio', 'sentence', 'input_features', 'labels'],\n",
       "        num_rows: 29056\n",
       "    })\n",
       "    validation: Dataset({\n",
       "        features: ['audio', 'sentence', 'input_features', 'labels'],\n",
       "        num_rows: 10581\n",
       "    })\n",
       "})"
      ]
     },
     "execution_count": 4,
     "metadata": {},
     "output_type": "execute_result"
    }
   ],
   "source": [
    "# 预处理训练数据集：使用全量数据\n",
    "\n",
    "from transformers import AutoFeatureExtractor, AutoTokenizer, AutoProcessor\n",
    "\n",
    "# 从预训练模型加载特征提取器\n",
    "feature_extractor = AutoFeatureExtractor.from_pretrained(model_name_or_path)\n",
    "\n",
    "# 从预训练模型加载分词器，可以指定语言和任务以获得最适合特定需求的分词器配置\n",
    "tokenizer = AutoTokenizer.from_pretrained(model_name_or_path, language=language, task=task)\n",
    "\n",
    "# 从预训练模型加载处理器，处理器通常结合了特征提取器和分词器，为特定任务提供一站式的数据预处理\n",
    "processor = AutoProcessor.from_pretrained(model_name_or_path, language=language, task=task)\n",
    "\n",
    "common_voice = common_voice.remove_columns(\n",
    "    [\"accent\", \"age\", \"client_id\", \"down_votes\", \"gender\", \"locale\", \"path\", \"segment\", \"up_votes\"]\n",
    ")\n",
    "\n",
    "from datasets import Audio\n",
    "\n",
    "# 降低音频采样\n",
    "common_voice = common_voice.cast_column(\"audio\", Audio(sampling_rate=16000))\n",
    "\n",
    "def prepare_dataset(batch):\n",
    "    audio = batch[\"audio\"]\n",
    "    batch[\"input_features\"] = feature_extractor(audio[\"array\"], sampling_rate=audio[\"sampling_rate\"]).input_features[0]\n",
    "    batch[\"labels\"] = tokenizer(batch[\"sentence\"]).input_ids\n",
    "    return batch\n",
    "\n",
    "# 完整数据训练，尝试开启 `num_proc=8` 参数多进程并行处理（如阻塞无法运行，则不使用此参数）\n",
    "tokenized_common_voice = common_voice.map(prepare_dataset)\n",
    "tokenized_common_voice"
   ]
  },
  {
   "cell_type": "code",
   "execution_count": 5,
   "id": "9ac998be-d489-4cda-8770-53bdb4c005ba",
   "metadata": {
    "execution": {
     "iopub.execute_input": "2024-04-06T04:46:48.113467Z",
     "iopub.status.busy": "2024-04-06T04:46:48.113467Z",
     "iopub.status.idle": "2024-04-06T04:46:48.118403Z",
     "shell.execute_reply": "2024-04-06T04:46:48.118403Z",
     "shell.execute_reply.started": "2024-04-06T04:46:48.113467Z"
    }
   },
   "outputs": [],
   "source": [
    "# 自定义语音数据整理器\n",
    "\n",
    "import torch\n",
    "\n",
    "from dataclasses import dataclass\n",
    "from typing import Any, Dict, List, Union\n",
    "\n",
    "# 定义一个针对语音到文本任务的数据整理器类\n",
    "@dataclass\n",
    "class DataCollatorSpeechSeq2SeqWithPadding:\n",
    "    processor: Any  # 处理器结合了特征提取器和分词器\n",
    "\n",
    "    # 整理器函数，将特征列表处理成一个批次\n",
    "    def __call__(self, features: List[Dict[str, Union[List[int], torch.Tensor]]]) -> Dict[str, torch.Tensor]:\n",
    "        # 从特征列表中提取输入特征，并填充以使它们具有相同的形状\n",
    "        input_features = [{\"input_features\": feature[\"input_features\"]} for feature in features]\n",
    "        batch = self.processor.feature_extractor.pad(input_features, return_tensors=\"pt\")\n",
    "\n",
    "        # 从特征列表中提取标签特征（文本令牌），并进行填充\n",
    "        label_features = [{\"input_ids\": feature[\"labels\"]} for feature in features]\n",
    "        labels_batch = self.processor.tokenizer.pad(label_features, return_tensors=\"pt\")\n",
    "\n",
    "        # 使用-100替换标签中的填充区域，-100通常用于在损失计算中忽略填充令牌\n",
    "        labels = labels_batch[\"input_ids\"].masked_fill(labels_batch.attention_mask.ne(1), -100)\n",
    "\n",
    "        # 如果批次中的所有序列都以句子开始令牌开头，则移除它\n",
    "        if (labels[:, 0] == self.processor.tokenizer.bos_token_id).all().cpu().item():\n",
    "            labels = labels[:, 1:]\n",
    "\n",
    "        # 将处理过的标签添加到批次中\n",
    "        batch[\"labels\"] = labels\n",
    "\n",
    "        return batch  # 返回最终的批次，准备好进行训练或评估\n",
    "\n",
    "# 用给定的处理器实例化数据整理器\n",
    "data_collator = DataCollatorSpeechSeq2SeqWithPadding(processor=processor)"
   ]
  },
  {
   "cell_type": "code",
   "execution_count": 6,
   "id": "223461fb-126e-402a-9921-19f48a750148",
   "metadata": {
    "execution": {
     "iopub.execute_input": "2024-04-06T04:46:56.441977Z",
     "iopub.status.busy": "2024-04-06T04:46:56.441977Z",
     "iopub.status.idle": "2024-04-06T04:47:02.912762Z",
     "shell.execute_reply": "2024-04-06T04:47:02.912762Z",
     "shell.execute_reply.started": "2024-04-06T04:46:56.441977Z"
    }
   },
   "outputs": [
    {
     "name": "stderr",
     "output_type": "stream",
     "text": [
      "The `load_in_4bit` and `load_in_8bit` arguments are deprecated and will be removed in the future versions. Please, pass a `BitsAndBytesConfig` object in `quantization_config` argument instead.\n"
     ]
    }
   ],
   "source": [
    "# 加载预训练模型（int8 精度）\n",
    "\n",
    "from transformers import AutoModelForSpeechSeq2Seq\n",
    "\n",
    "model = AutoModelForSpeechSeq2Seq.from_pretrained(model_name_or_path, load_in_8bit=True, device_map=\"auto\")\n",
    "\n",
    "# 设置模型配置中的forced_decoder_ids属性为None\n",
    "model.config.forced_decoder_ids = None  # 这通常用于指定在解码（生成文本）过程中必须使用的特定token的ID，设置为None表示没有这样的强制要求\n",
    "\n",
    "# 设置模型配置中的suppress_tokens列表为空\n",
    "model.config.suppress_tokens = []  # 这用于指定在生成过程中应被抑制（不生成）的token的列表，设置为空列表表示没有要抑制的token\n",
    "\n",
    "# PEFT 微调前的模型处理\n",
    "# from peft import prepare_model_for_int8_training\n",
    "from peft import prepare_model_for_kbit_training \n",
    "\n",
    "model = prepare_model_for_kbit_training(model)"
   ]
  },
  {
   "cell_type": "code",
   "execution_count": 7,
   "id": "49d494b6-f2f4-402f-966f-b8c4dddb4fc4",
   "metadata": {
    "execution": {
     "iopub.execute_input": "2024-04-06T04:47:07.874925Z",
     "iopub.status.busy": "2024-04-06T04:47:07.873925Z",
     "iopub.status.idle": "2024-04-06T04:47:08.043875Z",
     "shell.execute_reply": "2024-04-06T04:47:08.043875Z",
     "shell.execute_reply.started": "2024-04-06T04:47:07.874925Z"
    }
   },
   "outputs": [
    {
     "name": "stdout",
     "output_type": "stream",
     "text": [
      "trainable params: 1,966,080 || all params: 1,545,271,040 || trainable%: 0.12723204856023188\n"
     ]
    }
   ],
   "source": [
    "# LoRa Adapter 配置\n",
    "\n",
    "from peft import LoraConfig, PeftModel, LoraModel, LoraConfig, get_peft_model\n",
    "\n",
    "# 创建一个LoraConfig对象，用于设置LoRA（Low-Rank Adaptation）的配置参数\n",
    "config = LoraConfig(\n",
    "    r=4,  # LoRA的秩，影响LoRA矩阵的大小\n",
    "    lora_alpha=64,  # LoRA适应的比例因子\n",
    "    # 指定将LoRA应用到的模型模块，通常是attention和全连接层的投影。\n",
    "    target_modules=[\"q_proj\", \"v_proj\"],\n",
    "    lora_dropout=0.05,  # 在LoRA模块中使用的dropout率\n",
    "    bias=\"none\",  # 设置bias的使用方式，这里没有使用bias\n",
    ")\n",
    "\n",
    "# 获取 PEFT 模型\n",
    "peft_model = get_peft_model(model, config)\n",
    "\n",
    "# 打印 LoRA 微调训练的模型参数\n",
    "peft_model.print_trainable_parameters()"
   ]
  },
  {
   "cell_type": "code",
   "execution_count": 17,
   "id": "4adbb163-ffde-40b0-95c8-bc1769e34130",
   "metadata": {
    "execution": {
     "iopub.execute_input": "2024-04-06T06:56:56.173515Z",
     "iopub.status.busy": "2024-04-06T06:56:56.172514Z",
     "iopub.status.idle": "2024-04-06T06:56:56.180703Z",
     "shell.execute_reply": "2024-04-06T06:56:56.180703Z",
     "shell.execute_reply.started": "2024-04-06T06:56:56.173515Z"
    }
   },
   "outputs": [],
   "source": [
    "# 模型训练\n",
    "\n",
    "from transformers import Seq2SeqTrainingArguments\n",
    "\n",
    "# 设置序列到序列模型训练的参数\n",
    "training_args = Seq2SeqTrainingArguments(\n",
    "    output_dir=model_dir,  # 指定模型输出和保存的目录\n",
    "    per_device_train_batch_size=batch_size,  # 每个设备上的训练批量大小\n",
    "    learning_rate=1e-3,  # 学习率\n",
    "    num_train_epochs=2,  # 训练的总轮数\n",
    "    # evaluation_strategy=\"epoch\",  # 设置评估策略，这里是在每个epoch结束时进行评估\n",
    "    # warmup_steps=50,  # 在训练初期增加学习率的步数，有助于稳定训练\n",
    "    # fp16=True,  # 启用混合精度训练，可以提高训练速度，同时减少内存使用\n",
    "    per_device_eval_batch_size=batch_size,  # 每个设备上的评估批量大小\n",
    "    generation_max_length=128,  # 生成任务的最大长度\n",
    "    logging_steps=20,  # 指定日志记录的步骤，用于跟踪训练进度\n",
    "    remove_unused_columns=False,  # 是否删除不使用的列，以减少数据处理开销\n",
    "    label_names=[\"labels\"],  # 指定标签列的名称，用于训练过程中\n",
    "    evaluation_strategy=\"steps\",\n",
    "    eval_steps=50,\n",
    ")"
   ]
  },
  {
   "cell_type": "code",
   "execution_count": 18,
   "id": "8d1f87c7-fc8f-4574-9d3d-9c87f71f20f3",
   "metadata": {
    "execution": {
     "iopub.execute_input": "2024-04-06T06:56:59.681093Z",
     "iopub.status.busy": "2024-04-06T06:56:59.681093Z",
     "iopub.status.idle": "2024-04-06T06:56:59.687373Z",
     "shell.execute_reply": "2024-04-06T06:56:59.687373Z",
     "shell.execute_reply.started": "2024-04-06T06:56:59.681093Z"
    }
   },
   "outputs": [
    {
     "name": "stderr",
     "output_type": "stream",
     "text": [
      "C:\\Users\\mtide\\miniconda3\\envs\\py311\\Lib\\site-packages\\accelerate\\accelerator.py:432: FutureWarning: Passing the following arguments to `Accelerator` is deprecated and will be removed in version 1.0 of Accelerate: dict_keys(['dispatch_batches', 'split_batches', 'even_batches', 'use_seedable_sampler']). Please pass an `accelerate.DataLoaderConfiguration` instead: \n",
      "dataloader_config = DataLoaderConfiguration(dispatch_batches=None, split_batches=False, even_batches=True, use_seedable_sampler=True)\n",
      "  warnings.warn(\n"
     ]
    }
   ],
   "source": [
    "# 实例化 Seq2SeqTrainer 训练器\n",
    "\n",
    "from transformers import Seq2SeqTrainer\n",
    "\n",
    "trainer = Seq2SeqTrainer(\n",
    "    args=training_args,\n",
    "    model=peft_model,\n",
    "    train_dataset=tokenized_common_voice[\"train\"],\n",
    "    eval_dataset=tokenized_common_voice[\"validation\"],\n",
    "    data_collator=data_collator,\n",
    "    tokenizer=processor.feature_extractor,\n",
    ")\n",
    "peft_model.config.use_cache = False"
   ]
  },
  {
   "cell_type": "code",
   "execution_count": 19,
   "id": "ae8089e1-34bc-4a7f-bd40-5ad192dca120",
   "metadata": {
    "execution": {
     "iopub.execute_input": "2024-04-06T06:57:04.783945Z",
     "iopub.status.busy": "2024-04-06T06:57:04.783945Z",
     "iopub.status.idle": "2024-04-07T17:46:08.118298Z",
     "shell.execute_reply": "2024-04-07T17:46:08.118298Z",
     "shell.execute_reply.started": "2024-04-06T06:57:04.783945Z"
    }
   },
   "outputs": [
    {
     "name": "stderr",
     "output_type": "stream",
     "text": [
      "C:\\Users\\mtide\\miniconda3\\envs\\py311\\Lib\\site-packages\\torch\\utils\\checkpoint.py:460: UserWarning: torch.utils.checkpoint: please pass in use_reentrant=True or use_reentrant=False explicitly. The default value of use_reentrant will be updated to be False in the future. To maintain current behavior, pass use_reentrant=True. It is recommended that you use use_reentrant=False. Refer to docs for more details on the differences between the two variants.\n",
      "  warnings.warn(\n",
      "C:\\Users\\mtide\\miniconda3\\envs\\py311\\Lib\\site-packages\\torch\\utils\\checkpoint.py:90: UserWarning: None of the inputs have requires_grad=True. Gradients will be None\n",
      "  warnings.warn(\n",
      "C:\\Users\\mtide\\miniconda3\\envs\\py311\\Lib\\site-packages\\bitsandbytes\\autograd\\_functions.py:322: UserWarning: MatMul8bitLt: inputs will be cast from torch.float32 to float16 during quantization\n",
      "  warnings.warn(f\"MatMul8bitLt: inputs will be cast from {A.dtype} to float16 during quantization\")\n"
     ]
    },
    {
     "data": {
      "text/html": [
       "\n",
       "    <div>\n",
       "      \n",
       "      <progress value='908' max='908' style='width:300px; height:20px; vertical-align: middle;'></progress>\n",
       "      [908/908 34:48:22, Epoch 2/2]\n",
       "    </div>\n",
       "    <table border=\"1\" class=\"dataframe\">\n",
       "  <thead>\n",
       " <tr style=\"text-align: left;\">\n",
       "      <th>Step</th>\n",
       "      <th>Training Loss</th>\n",
       "      <th>Validation Loss</th>\n",
       "    </tr>\n",
       "  </thead>\n",
       "  <tbody>\n",
       "    <tr>\n",
       "      <td>50</td>\n",
       "      <td>0.376200</td>\n",
       "      <td>0.438443</td>\n",
       "    </tr>\n",
       "    <tr>\n",
       "      <td>100</td>\n",
       "      <td>0.371900</td>\n",
       "      <td>0.422647</td>\n",
       "    </tr>\n",
       "    <tr>\n",
       "      <td>150</td>\n",
       "      <td>0.359900</td>\n",
       "      <td>0.418401</td>\n",
       "    </tr>\n",
       "    <tr>\n",
       "      <td>200</td>\n",
       "      <td>0.362800</td>\n",
       "      <td>0.415319</td>\n",
       "    </tr>\n",
       "    <tr>\n",
       "      <td>250</td>\n",
       "      <td>0.345700</td>\n",
       "      <td>0.408794</td>\n",
       "    </tr>\n",
       "    <tr>\n",
       "      <td>300</td>\n",
       "      <td>0.334300</td>\n",
       "      <td>0.404431</td>\n",
       "    </tr>\n",
       "    <tr>\n",
       "      <td>350</td>\n",
       "      <td>0.346900</td>\n",
       "      <td>0.400447</td>\n",
       "    </tr>\n",
       "    <tr>\n",
       "      <td>400</td>\n",
       "      <td>0.333300</td>\n",
       "      <td>0.397118</td>\n",
       "    </tr>\n",
       "    <tr>\n",
       "      <td>450</td>\n",
       "      <td>0.337500</td>\n",
       "      <td>0.392756</td>\n",
       "    </tr>\n",
       "    <tr>\n",
       "      <td>500</td>\n",
       "      <td>0.273300</td>\n",
       "      <td>0.393316</td>\n",
       "    </tr>\n",
       "    <tr>\n",
       "      <td>550</td>\n",
       "      <td>0.275700</td>\n",
       "      <td>0.393041</td>\n",
       "    </tr>\n",
       "    <tr>\n",
       "      <td>600</td>\n",
       "      <td>0.274100</td>\n",
       "      <td>0.391529</td>\n",
       "    </tr>\n",
       "    <tr>\n",
       "      <td>650</td>\n",
       "      <td>0.286600</td>\n",
       "      <td>0.387136</td>\n",
       "    </tr>\n",
       "    <tr>\n",
       "      <td>700</td>\n",
       "      <td>0.281400</td>\n",
       "      <td>0.385937</td>\n",
       "    </tr>\n",
       "    <tr>\n",
       "      <td>750</td>\n",
       "      <td>0.275800</td>\n",
       "      <td>0.384636</td>\n",
       "    </tr>\n",
       "    <tr>\n",
       "      <td>800</td>\n",
       "      <td>0.254400</td>\n",
       "      <td>0.382456</td>\n",
       "    </tr>\n",
       "    <tr>\n",
       "      <td>850</td>\n",
       "      <td>0.302100</td>\n",
       "      <td>0.380876</td>\n",
       "    </tr>\n",
       "    <tr>\n",
       "      <td>900</td>\n",
       "      <td>0.263000</td>\n",
       "      <td>0.380270</td>\n",
       "    </tr>\n",
       "  </tbody>\n",
       "</table><p>"
      ],
      "text/plain": [
       "<IPython.core.display.HTML object>"
      ]
     },
     "metadata": {},
     "output_type": "display_data"
    },
    {
     "name": "stderr",
     "output_type": "stream",
     "text": [
      "C:\\Users\\mtide\\miniconda3\\envs\\py311\\Lib\\site-packages\\peft\\utils\\save_and_load.py:154: UserWarning: Could not find a config file in D:\\MTIDE\\code\\AI\\models\\openai\\whisper-large-v2 - will assume that the vocabulary was not modified.\n",
      "  warnings.warn(\n",
      "C:\\Users\\mtide\\miniconda3\\envs\\py311\\Lib\\site-packages\\torch\\utils\\checkpoint.py:460: UserWarning: torch.utils.checkpoint: please pass in use_reentrant=True or use_reentrant=False explicitly. The default value of use_reentrant will be updated to be False in the future. To maintain current behavior, pass use_reentrant=True. It is recommended that you use use_reentrant=False. Refer to docs for more details on the differences between the two variants.\n",
      "  warnings.warn(\n",
      "C:\\Users\\mtide\\miniconda3\\envs\\py311\\Lib\\site-packages\\torch\\utils\\checkpoint.py:90: UserWarning: None of the inputs have requires_grad=True. Gradients will be None\n",
      "  warnings.warn(\n",
      "C:\\Users\\mtide\\miniconda3\\envs\\py311\\Lib\\site-packages\\bitsandbytes\\autograd\\_functions.py:322: UserWarning: MatMul8bitLt: inputs will be cast from torch.float32 to float16 during quantization\n",
      "  warnings.warn(f\"MatMul8bitLt: inputs will be cast from {A.dtype} to float16 during quantization\")\n"
     ]
    },
    {
     "data": {
      "text/plain": [
       "TrainOutput(global_step=908, training_loss=0.31459054862875246, metrics={'train_runtime': 125342.7358, 'train_samples_per_second': 0.464, 'train_steps_per_second': 0.007, 'total_flos': 1.23546238451712e+20, 'train_loss': 0.31459054862875246, 'epoch': 2.0})"
      ]
     },
     "execution_count": 19,
     "metadata": {},
     "output_type": "execute_result"
    }
   ],
   "source": [
    "# 开始训练\n",
    "# 作业1： 为中文语料的训练过程增加过程评估，观察 Train Loss 和 Validation Loss 变化\n",
    "\n",
    "trainer.train()"
   ]
  },
  {
   "cell_type": "code",
   "execution_count": 20,
   "id": "9f73bf78-06c2-440c-864f-2a588b311fd6",
   "metadata": {
    "execution": {
     "iopub.execute_input": "2024-04-07T23:36:35.004076Z",
     "iopub.status.busy": "2024-04-07T23:36:35.004076Z",
     "iopub.status.idle": "2024-04-07T23:36:35.069901Z",
     "shell.execute_reply": "2024-04-07T23:36:35.069901Z",
     "shell.execute_reply.started": "2024-04-07T23:36:35.004076Z"
    }
   },
   "outputs": [
    {
     "name": "stderr",
     "output_type": "stream",
     "text": [
      "C:\\Users\\mtide\\miniconda3\\envs\\py311\\Lib\\site-packages\\peft\\utils\\save_and_load.py:154: UserWarning: Could not find a config file in D:\\MTIDE\\code\\AI\\models\\openai\\whisper-large-v2 - will assume that the vocabulary was not modified.\n",
      "  warnings.warn(\n"
     ]
    }
   ],
   "source": [
    "# 保存模型\n",
    "trainer.save_model(model_dir)"
   ]
  },
  {
   "cell_type": "code",
   "execution_count": 27,
   "id": "3e56b894-5617-454a-b9c7-8f08150299f1",
   "metadata": {
    "execution": {
     "iopub.execute_input": "2024-04-07T23:44:27.457575Z",
     "iopub.status.busy": "2024-04-07T23:44:27.457575Z",
     "iopub.status.idle": "2024-04-07T23:44:27.961334Z",
     "shell.execute_reply": "2024-04-07T23:44:27.961334Z",
     "shell.execute_reply.started": "2024-04-07T23:44:27.457575Z"
    }
   },
   "outputs": [
    {
     "data": {
      "text/plain": [
       "4934"
      ]
     },
     "execution_count": 27,
     "metadata": {},
     "output_type": "execute_result"
    }
   ],
   "source": [
    "# 清空显存\n",
    "del common_voice\n",
    "del tokenized_common_voice\n",
    "del trainer\n",
    "del peft_model\n",
    "torch.cuda.empty_cache()\n",
    "\n",
    "import gc\n",
    "gc.collect()"
   ]
  },
  {
   "cell_type": "code",
   "execution_count": 9,
   "id": "cabd6794-db5d-4b13-90f5-fa73e473435f",
   "metadata": {
    "execution": {
     "iopub.execute_input": "2024-04-08T01:44:24.039099Z",
     "iopub.status.busy": "2024-04-08T01:44:24.039099Z",
     "iopub.status.idle": "2024-04-08T01:44:27.447670Z",
     "shell.execute_reply": "2024-04-08T01:44:27.447670Z",
     "shell.execute_reply.started": "2024-04-08T01:44:24.039099Z"
    }
   },
   "outputs": [
    {
     "name": "stderr",
     "output_type": "stream",
     "text": [
      "The `load_in_4bit` and `load_in_8bit` arguments are deprecated and will be removed in the future versions. Please, pass a `BitsAndBytesConfig` object in `quantization_config` argument instead.\n"
     ]
    }
   ],
   "source": [
    "# 模型评估\n",
    "# 作业2： 当 LoRA 模型训练完成后，使用测试集进行完整的模型评估\n",
    "\n",
    "import os\n",
    "\n",
    "os.environ['HF_HOME'] = 'D:\\MTIDE\\.cache\\huggingface'\n",
    "os.environ['HF_HUB_CACHE'] = 'D:\\MTIDE\\.cache\\huggingface\\hub'\n",
    "\n",
    "# 使用预先从 HuggingFace 下载的模型文件\n",
    "# model_name_or_path = \"openai/whisper-large-v2\"\n",
    "model_name_or_path = \"D:\\MTIDE\\code\\AI\\models\\openai\\whisper-large-v2\"\n",
    "model_dir = \"models/whisper-large-v2-asr-int8\"\n",
    "\n",
    "language = \"Chinese (China)\"\n",
    "language_abbr = \"zh-CN\"\n",
    "task = \"transcribe\"\n",
    "dataset_name = \"mozilla-foundation/common_voice_11_0\"\n",
    "\n",
    "batch_size=32\n",
    "\n",
    "from transformers import AutoModelForSpeechSeq2Seq, AutoTokenizer, AutoProcessor\n",
    "from peft import PeftConfig, PeftModel\n",
    "\n",
    "peft_config = PeftConfig.from_pretrained(model_dir)\n",
    "\n",
    "base_model = AutoModelForSpeechSeq2Seq.from_pretrained(\n",
    "    peft_config.base_model_name_or_path, load_in_8bit=True, device_map=\"auto\"\n",
    ")\n",
    "base_model.requires_grad_(False)\n",
    "\n",
    "peft_model = PeftModel.from_pretrained(base_model, model_dir)\n",
    "peft_model.eval()\n",
    "peft_model.generation_config.language = 'chinese'"
   ]
  },
  {
   "cell_type": "code",
   "execution_count": 10,
   "id": "1d76a967-56a5-44cd-8088-241520b5ffeb",
   "metadata": {
    "execution": {
     "iopub.execute_input": "2024-04-08T01:45:16.938489Z",
     "iopub.status.busy": "2024-04-08T01:45:16.938489Z",
     "iopub.status.idle": "2024-04-08T01:45:17.570975Z",
     "shell.execute_reply": "2024-04-08T01:45:17.570244Z",
     "shell.execute_reply.started": "2024-04-08T01:45:16.938489Z"
    }
   },
   "outputs": [
    {
     "name": "stderr",
     "output_type": "stream",
     "text": [
      "Special tokens have been added in the vocabulary, make sure the associated word embeddings are fine-tuned or trained.\n",
      "Special tokens have been added in the vocabulary, make sure the associated word embeddings are fine-tuned or trained.\n"
     ]
    }
   ],
   "source": [
    "tokenizer = AutoTokenizer.from_pretrained(peft_config.base_model_name_or_path, language=language, task=task)\n",
    "processor = AutoProcessor.from_pretrained(peft_config.base_model_name_or_path, language=language, task=task)\n",
    "feature_extractor = processor.feature_extractor"
   ]
  },
  {
   "cell_type": "code",
   "execution_count": 11,
   "id": "7b4c2ac8-7b9d-4e73-8abe-fe481ad9cd78",
   "metadata": {
    "execution": {
     "iopub.execute_input": "2024-04-08T01:45:19.712236Z",
     "iopub.status.busy": "2024-04-08T01:45:19.712236Z",
     "iopub.status.idle": "2024-04-08T01:45:41.367339Z",
     "shell.execute_reply": "2024-04-08T01:45:41.367339Z",
     "shell.execute_reply.started": "2024-04-08T01:45:19.712236Z"
    }
   },
   "outputs": [
    {
     "name": "stderr",
     "output_type": "stream",
     "text": [
      "Using the latest cached version of the module from D:\\MTIDE\\.cache\\huggingface\\modules\\datasets_modules\\datasets\\mozilla-foundation--common_voice_11_0\\3f27acf10f303eac5b6fbbbe02495aeddb46ecffdb0a2fe3507fcfbf89094631 (last modified on Thu Apr  4 09:35:09 2024) since it couldn't be found locally at mozilla-foundation/common_voice_11_0, or remotely on the Hugging Face Hub.\n"
     ]
    }
   ],
   "source": [
    "# 评估数据集处理\n",
    "# 使用完整测试集\n",
    "\n",
    "from datasets import load_dataset, DatasetDict, Audio\n",
    "\n",
    "common_voice = DatasetDict()\n",
    "common_voice[\"test\"] = load_dataset(dataset_name, language_abbr, split=\"test\", trust_remote_code=True)\n",
    "common_voice = common_voice.remove_columns(\n",
    "    [\"accent\", \"age\", \"client_id\", \"down_votes\", \"gender\", \"locale\", \"path\", \"segment\", \"up_votes\"]\n",
    ")\n",
    "common_voice = common_voice.cast_column(\"audio\", Audio(sampling_rate=16000))\n",
    "\n",
    "def prepare_dataset(batch):\n",
    "    audio = batch[\"audio\"]\n",
    "    batch[\"input_features\"] = feature_extractor(audio[\"array\"], sampling_rate=audio[\"sampling_rate\"]).input_features[0]\n",
    "    batch[\"labels\"] = tokenizer(batch[\"sentence\"]).input_ids\n",
    "    return batch\n",
    "\n",
    "tokenized_common_voice = common_voice.map(prepare_dataset)"
   ]
  },
  {
   "cell_type": "code",
   "execution_count": 12,
   "id": "42043e04-c129-43fb-b745-77eec3ffce21",
   "metadata": {
    "execution": {
     "iopub.execute_input": "2024-04-08T01:46:04.153227Z",
     "iopub.status.busy": "2024-04-08T01:46:04.153227Z",
     "iopub.status.idle": "2024-04-08T01:46:04.158909Z",
     "shell.execute_reply": "2024-04-08T01:46:04.158909Z",
     "shell.execute_reply.started": "2024-04-08T01:46:04.153227Z"
    }
   },
   "outputs": [],
   "source": [
    "import torch\n",
    "\n",
    "from dataclasses import dataclass\n",
    "from typing import Any, Dict, List, Union\n",
    "\n",
    "# 定义一个针对语音到文本任务的数据整理器类\n",
    "@dataclass\n",
    "class DataCollatorSpeechSeq2SeqWithPadding:\n",
    "    processor: Any  # 处理器结合了特征提取器和分词器\n",
    "\n",
    "    # 整理器函数，将特征列表处理成一个批次\n",
    "    def __call__(self, features: List[Dict[str, Union[List[int], torch.Tensor]]]) -> Dict[str, torch.Tensor]:\n",
    "        # 从特征列表中提取输入特征，并填充以使它们具有相同的形状\n",
    "        input_features = [{\"input_features\": feature[\"input_features\"]} for feature in features]\n",
    "        batch = self.processor.feature_extractor.pad(input_features, return_tensors=\"pt\")\n",
    "\n",
    "        # 从特征列表中提取标签特征（文本令牌），并进行填充\n",
    "        label_features = [{\"input_ids\": feature[\"labels\"]} for feature in features]\n",
    "        labels_batch = self.processor.tokenizer.pad(label_features, return_tensors=\"pt\")\n",
    "\n",
    "        # 使用-100替换标签中的填充区域，-100通常用于在损失计算中忽略填充令牌\n",
    "        labels = labels_batch[\"input_ids\"].masked_fill(labels_batch.attention_mask.ne(1), -100)\n",
    "\n",
    "        # 如果批次中的所有序列都以句子开始令牌开头，则移除它\n",
    "        if (labels[:, 0] == self.processor.tokenizer.bos_token_id).all().cpu().item():\n",
    "            labels = labels[:, 1:]\n",
    "\n",
    "        # 将处理过的标签添加到批次中\n",
    "        batch[\"labels\"] = labels\n",
    "\n",
    "        return batch  # 返回最终的批次，准备好进行训练或评估\n",
    "\n",
    "# 用给定的处理器实例化数据整理器\n",
    "data_collator = DataCollatorSpeechSeq2SeqWithPadding(processor=processor)"
   ]
  },
  {
   "cell_type": "code",
   "execution_count": 13,
   "id": "d000cf7f-8dbf-495c-b6f5-4d50f549d067",
   "metadata": {
    "execution": {
     "iopub.execute_input": "2024-04-08T01:46:08.155036Z",
     "iopub.status.busy": "2024-04-08T01:46:08.154037Z",
     "iopub.status.idle": "2024-04-08T01:48:18.547583Z",
     "shell.execute_reply": "2024-04-08T01:48:18.547583Z",
     "shell.execute_reply.started": "2024-04-08T01:46:08.155036Z"
    }
   },
   "outputs": [
    {
     "name": "stderr",
     "output_type": "stream",
     "text": [
      "Using the latest cached version of the module from D:\\MTIDE\\.cache\\huggingface\\modules\\evaluate_modules\\metrics\\evaluate-metric--wer\\85bee9e4216a78bb09b2d0d500f6af5c23da58f9210e661add540f5df6630fcd (last modified on Mon Apr  8 08:11:39 2024) since it couldn't be found locally at evaluate-metric--wer, or remotely on the Hugging Face Hub.\n"
     ]
    }
   ],
   "source": [
    "# 评估模型\n",
    "\n",
    "import evaluate\n",
    "\n",
    "# 词错误率（WER）是评估ASR模型常用的指标。从 Evaluate 加载 WER 指标\n",
    "metric = evaluate.load(\"wer\")"
   ]
  },
  {
   "cell_type": "code",
   "execution_count": 14,
   "id": "a8efe838-04ec-4077-a167-83efe044b73d",
   "metadata": {
    "execution": {
     "iopub.execute_input": "2024-04-08T01:50:15.778890Z",
     "iopub.status.busy": "2024-04-08T01:50:15.777888Z",
     "iopub.status.idle": "2024-04-08T11:52:52.209175Z",
     "shell.execute_reply": "2024-04-08T11:52:52.209175Z",
     "shell.execute_reply.started": "2024-04-08T01:50:15.778890Z"
    }
   },
   "outputs": [
    {
     "name": "stderr",
     "output_type": "stream",
     "text": [
      "  0%|                                                                                                                                                                                 | 0/331 [00:00<?, ?it/s]C:\\Users\\mtide\\miniconda3\\envs\\py311\\Lib\\site-packages\\transformers\\models\\whisper\\generation_whisper.py:1286: FutureWarning: You have provided `decoder_input_ids` which will overwrite the `init_tokens` [50258, 50260, 50359, 50363]. This might lead to unexpected behavior. Passing `decoder_input_ids` is deprecated and will be removed in v4.39. Consider passing `prompt_ids` instead.\n",
      "  warnings.warn(\n",
      "C:\\Users\\mtide\\miniconda3\\envs\\py311\\Lib\\site-packages\\bitsandbytes\\autograd\\_functions.py:322: UserWarning: MatMul8bitLt: inputs will be cast from torch.float32 to float16 during quantization\n",
      "  warnings.warn(f\"MatMul8bitLt: inputs will be cast from {A.dtype} to float16 during quantization\")\n",
      "C:\\Users\\mtide\\miniconda3\\envs\\py311\\Lib\\site-packages\\transformers\\models\\whisper\\modeling_whisper.py:697: UserWarning: 1Torch was not compiled with flash attention. (Triggered internally at ..\\aten\\src\\ATen\\native\\transformers\\cuda\\sdp_utils.cpp:263.)\n",
      "  attn_output = torch.nn.functional.scaled_dot_product_attention(\n",
      "100%|███████████████████████████████████████████████████████████████████████████████████████████████████████████████████████████████████████████████████████████████████| 331/331 [10:02:36<00:00, 109.23s/it]\n"
     ]
    }
   ],
   "source": [
    "from torch.utils.data import DataLoader\n",
    "from tqdm import tqdm\n",
    "import numpy as np\n",
    "import gc\n",
    "\n",
    "eval_dataloader = DataLoader(tokenized_common_voice[\"test\"], batch_size=batch_size, collate_fn=data_collator)\n",
    "\n",
    "# 遍历评估数据加载器中的所有批次\n",
    "for step, batch in enumerate(tqdm(eval_dataloader)):\n",
    "    # 使用自动混合精度来加速计算，并减少显存使用\n",
    "    with torch.cuda.amp.autocast():\n",
    "        # 不计算梯度，以节省计算资源，仅用于推理和评估\n",
    "        with torch.no_grad():\n",
    "            # 生成预测的标记(tokens)，这里使用模型的generate函数进行文本生成\n",
    "            generated_tokens = (\n",
    "                peft_model.generate(\n",
    "                    input_features=batch[\"input_features\"].to(\"cuda\"),  # 将输入特征移动到GPU上\n",
    "                    decoder_input_ids=batch[\"labels\"][:, :4].to(\"cuda\"),  # 提供解码器的初始输入\n",
    "                    max_new_tokens=255,  # 设置生成的最大新标记数量\n",
    "                )\n",
    "                .cpu()  # 将生成的标记移回CPU\n",
    "                .numpy()  # 转换为NumPy数组以便进一步处理\n",
    "            )\n",
    "            # 获取批次中的标签，并将其移回CPU\n",
    "            labels = batch[\"labels\"].cpu().numpy()\n",
    "            # 将标签中的-100替换为填充标记的ID，-100通常用于忽略计算损失的标记\n",
    "            labels = np.where(labels != -100, labels, tokenizer.pad_token_id)\n",
    "            # 使用分词器解码生成的标记和标签，以获得可读的文本\n",
    "            decoded_preds = tokenizer.batch_decode(generated_tokens, skip_special_tokens=True)\n",
    "            decoded_labels = tokenizer.batch_decode(labels, skip_special_tokens=True)\n",
    "            # 将预测和参考添加到评估指标中，用于后续的性能评估\n",
    "            metric.add_batch(\n",
    "                predictions=decoded_preds,\n",
    "                references=decoded_labels,\n",
    "            )\n",
    "    # 删除不再需要的变量以释放内存\n",
    "    del generated_tokens, labels, batch\n",
    "    # 手动触发垃圾收集，进一步清理内存\n",
    "    gc.collect()"
   ]
  },
  {
   "cell_type": "code",
   "execution_count": 15,
   "id": "80e97b3e-a312-4c8a-be55-773763d8b72c",
   "metadata": {
    "execution": {
     "iopub.execute_input": "2024-04-08T11:53:43.351935Z",
     "iopub.status.busy": "2024-04-08T11:53:43.350939Z",
     "iopub.status.idle": "2024-04-08T11:53:43.515310Z",
     "shell.execute_reply": "2024-04-08T11:53:43.515310Z",
     "shell.execute_reply.started": "2024-04-08T11:53:43.351935Z"
    }
   },
   "outputs": [
    {
     "name": "stdout",
     "output_type": "stream",
     "text": [
      "wer=57.257607257607255%\n"
     ]
    }
   ],
   "source": [
    "# 计算词错误率（WER）指标，并将结果转换为百分比形式\n",
    "wer = 100 * metric.compute()\n",
    "\n",
    "# 打印词错误率，f\"{wer=}\"是一种格式化字符串的简洁写法，它会展示变量名和值\n",
    "print(f\"{wer=}%\")"
   ]
  },
  {
   "cell_type": "code",
   "execution_count": null,
   "id": "aec1edee-6ea1-4611-9feb-332a0e7de2d5",
   "metadata": {},
   "outputs": [],
   "source": []
  }
 ],
 "metadata": {
  "kernelspec": {
   "display_name": "py311",
   "language": "python",
   "name": "py311"
  },
  "language_info": {
   "codemirror_mode": {
    "name": "ipython",
    "version": 3
   },
   "file_extension": ".py",
   "mimetype": "text/x-python",
   "name": "python",
   "nbconvert_exporter": "python",
   "pygments_lexer": "ipython3",
   "version": "3.11.8"
  }
 },
 "nbformat": 4,
 "nbformat_minor": 5
}
