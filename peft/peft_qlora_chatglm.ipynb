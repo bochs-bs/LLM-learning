{
 "cells": [
  {
   "cell_type": "code",
   "execution_count": 1,
   "id": "fc3661b7-ca56-43f9-b938-90d4ae712511",
   "metadata": {
    "execution": {
     "iopub.execute_input": "2024-04-16T03:36:00.677855Z",
     "iopub.status.busy": "2024-04-16T03:36:00.677855Z",
     "iopub.status.idle": "2024-04-16T03:36:00.681188Z",
     "shell.execute_reply": "2024-04-16T03:36:00.681188Z",
     "shell.execute_reply.started": "2024-04-16T03:36:00.677855Z"
    }
   },
   "outputs": [],
   "source": [
    "# 第九章作业\n",
    "# 根据硬件资源情况，在 AdvertiseGen 数据集上使用 QLoRA 微调 ChatGLM3-6B 至少 10K examples，观察 Loss 变化情况，并对比微调前后模型输出结果。\n",
    "\n",
    "import os\n",
    "\n",
    "os.environ['HF_HOME'] = 'D:\\MTIDE\\.cache\\huggingface'\n",
    "os.environ['HF_HUB_CACHE'] = 'D:\\MTIDE\\.cache\\huggingface\\hub'\n",
    "\n",
    "# 定义全局变量和参数\n",
    "model_name_or_path = 'D:\\MTIDE\\code\\AI\\models\\THUDM\\chatglm3-6b'  # 模型ID或本地路径\n",
    "train_data_path = 'HasturOfficial/adgen'    # 训练数据路径\n",
    "eval_data_path = None                     # 验证数据路径，如果没有则设置为None\n",
    "seed = 8                                 # 随机种子\n",
    "max_input_length = 512                    # 输入的最大长度\n",
    "max_output_length = 1536                  # 输出的最大长度\n",
    "lora_rank = 4                             # LoRA秩\n",
    "lora_alpha = 32                           # LoRA alpha值\n",
    "lora_dropout = 0.05                       # LoRA Dropout率\n",
    "resume_from_checkpoint = None             # 如果从checkpoint恢复训练，指定路径\n",
    "prompt_text = ''                          # 所有数据前的指令文本\n",
    "compute_dtype = 'fp32'                    # 计算数据类型（fp32, fp16, bf16）"
   ]
  },
  {
   "cell_type": "code",
   "execution_count": 2,
   "id": "3430b5c0-4c77-4201-8ccd-fd96b590ca31",
   "metadata": {
    "execution": {
     "iopub.execute_input": "2024-04-16T03:36:00.682190Z",
     "iopub.status.busy": "2024-04-16T03:36:00.681188Z",
     "iopub.status.idle": "2024-04-16T03:36:23.865685Z",
     "shell.execute_reply": "2024-04-16T03:36:23.865685Z",
     "shell.execute_reply.started": "2024-04-16T03:36:00.682190Z"
    }
   },
   "outputs": [
    {
     "name": "stderr",
     "output_type": "stream",
     "text": [
      "Using the latest cached version of the dataset since HasturOfficial/adgen couldn't be found on the Hugging Face Hub\n",
      "Found the latest cached dataset configuration 'default' at D:\\MTIDE\\.cache\\huggingface\\datasets\\HasturOfficial___adgen\\default\\0.0.0\\0aa901b33ff15691ac5e94c6893abb1cb2b8b11b (last modified on Tue Apr 16 11:01:23 2024).\n",
      "Setting eos_token is not supported, use the default one.\n",
      "Setting pad_token is not supported, use the default one.\n",
      "Setting unk_token is not supported, use the default one.\n"
     ]
    }
   ],
   "source": [
    "# 数据准备和预处理\n",
    "from datasets import load_dataset\n",
    "\n",
    "dataset = load_dataset(train_data_path)\n",
    "\n",
    "from transformers import AutoTokenizer\n",
    "\n",
    "# revision='b098244' 版本对应的 ChatGLM3-6B 设置 use_reentrant=False\n",
    "# 最新版本 use_reentrant 被设置为 True，会增加不必要的显存开销\n",
    "tokenizer = AutoTokenizer.from_pretrained(model_name_or_path,\n",
    "                                          trust_remote_code=True,\n",
    "                                          revision='b098244')"
   ]
  },
  {
   "cell_type": "code",
   "execution_count": 3,
   "id": "85f7a8f6-114d-40e9-a6eb-81d838407170",
   "metadata": {
    "execution": {
     "iopub.execute_input": "2024-04-16T03:36:23.866687Z",
     "iopub.status.busy": "2024-04-16T03:36:23.866687Z",
     "iopub.status.idle": "2024-04-16T03:36:23.869889Z",
     "shell.execute_reply": "2024-04-16T03:36:23.869889Z",
     "shell.execute_reply.started": "2024-04-16T03:36:23.866687Z"
    }
   },
   "outputs": [],
   "source": [
    "# tokenize_func 函数\n",
    "def tokenize_func(example, tokenizer, ignore_label_id=-100):\n",
    "    \"\"\"\n",
    "    对单个数据样本进行tokenize处理。\n",
    "\n",
    "    参数:\n",
    "    example (dict): 包含'content'和'summary'键的字典，代表训练数据的一个样本。\n",
    "    tokenizer (transformers.PreTrainedTokenizer): 用于tokenize文本的tokenizer。\n",
    "    ignore_label_id (int, optional): 在label中用于填充的忽略ID，默认为-100。\n",
    "\n",
    "    返回:\n",
    "    dict: 包含'tokenized_input_ids'和'labels'的字典，用于模型训练。\n",
    "    \"\"\"\n",
    "\n",
    "    # 构建问题文本\n",
    "    question = prompt_text + example['content']\n",
    "\n",
    "    # 构建答案文本\n",
    "    answer = example['summary']\n",
    "\n",
    "    # 对问题和答案文本进行tokenize处理\n",
    "    q_ids = tokenizer.encode(text=question, add_special_tokens=False)\n",
    "    a_ids = tokenizer.encode(text=answer, add_special_tokens=False)\n",
    "\n",
    "    # 如果tokenize后的长度超过最大长度限制，则进行截断\n",
    "    if len(q_ids) > max_input_length - 2:  # 保留空间给gmask和bos标记\n",
    "        q_ids = q_ids[:max_input_length - 2]\n",
    "    if len(a_ids) > max_output_length - 1:  # 保留空间给eos标记\n",
    "        a_ids = a_ids[:max_output_length - 1]\n",
    "\n",
    "    # 构建模型的输入格式\n",
    "    input_ids = tokenizer.build_inputs_with_special_tokens(q_ids, a_ids)\n",
    "    question_length = len(q_ids) + 2  # 加上gmask和bos标记\n",
    "\n",
    "    # 构建标签，对于问题部分的输入使用ignore_label_id进行填充\n",
    "    labels = [ignore_label_id] * question_length + input_ids[question_length:]\n",
    "\n",
    "    return {'input_ids': input_ids, 'labels': labels}"
   ]
  },
  {
   "cell_type": "code",
   "execution_count": 4,
   "id": "5344e7c5-eefc-4c79-9af6-d39b8a7966b4",
   "metadata": {
    "execution": {
     "iopub.execute_input": "2024-04-16T03:36:23.870891Z",
     "iopub.status.busy": "2024-04-16T03:36:23.870891Z",
     "iopub.status.idle": "2024-04-16T03:36:23.987446Z",
     "shell.execute_reply": "2024-04-16T03:36:23.987446Z",
     "shell.execute_reply.started": "2024-04-16T03:36:23.870891Z"
    }
   },
   "outputs": [],
   "source": [
    "column_names = dataset['train'].column_names\n",
    "tokenized_dataset = dataset['train'].map(\n",
    "    lambda example: tokenize_func(example, tokenizer),\n",
    "    batched=False, \n",
    "    remove_columns=column_names\n",
    ")\n",
    "\n",
    "tokenized_dataset = tokenized_dataset.shuffle(seed=seed)\n",
    "tokenized_dataset = tokenized_dataset.flatten_indices()"
   ]
  },
  {
   "cell_type": "code",
   "execution_count": 5,
   "id": "c38c6bca-9832-494f-a567-009a70a6e63f",
   "metadata": {
    "execution": {
     "iopub.execute_input": "2024-04-16T03:36:23.988448Z",
     "iopub.status.busy": "2024-04-16T03:36:23.987446Z",
     "iopub.status.idle": "2024-04-16T03:36:23.992792Z",
     "shell.execute_reply": "2024-04-16T03:36:23.992792Z",
     "shell.execute_reply.started": "2024-04-16T03:36:23.988448Z"
    }
   },
   "outputs": [],
   "source": [
    "import torch\n",
    "from typing import List, Dict, Optional\n",
    "\n",
    "# DataCollatorForChatGLM 类\n",
    "class DataCollatorForChatGLM:\n",
    "    \"\"\"\n",
    "    用于处理批量数据的DataCollator，尤其是在使用 ChatGLM 模型时。\n",
    "\n",
    "    该类负责将多个数据样本（tokenized input）合并为一个批量，并在必要时进行填充(padding)。\n",
    "\n",
    "    属性:\n",
    "    pad_token_id (int): 用于填充(padding)的token ID。\n",
    "    max_length (int): 单个批量数据的最大长度限制。\n",
    "    ignore_label_id (int): 在标签中用于填充的ID。\n",
    "    \"\"\"\n",
    "\n",
    "    def __init__(self, pad_token_id: int, max_length: int = 2048, ignore_label_id: int = -100):\n",
    "        \"\"\"\n",
    "        初始化DataCollator。\n",
    "\n",
    "        参数:\n",
    "        pad_token_id (int): 用于填充(padding)的token ID。\n",
    "        max_length (int): 单个批量数据的最大长度限制。\n",
    "        ignore_label_id (int): 在标签中用于填充的ID，默认为-100。\n",
    "        \"\"\"\n",
    "        self.pad_token_id = pad_token_id\n",
    "        self.ignore_label_id = ignore_label_id\n",
    "        self.max_length = max_length\n",
    "\n",
    "    def __call__(self, batch_data: List[Dict[str, List]]) -> Dict[str, torch.Tensor]:\n",
    "        \"\"\"\n",
    "        处理批量数据。\n",
    "\n",
    "        参数:\n",
    "        batch_data (List[Dict[str, List]]): 包含多个样本的字典列表。\n",
    "\n",
    "        返回:\n",
    "        Dict[str, torch.Tensor]: 包含处理后的批量数据的字典。\n",
    "        \"\"\"\n",
    "        # 计算批量中每个样本的长度\n",
    "        len_list = [len(d['input_ids']) for d in batch_data]\n",
    "        batch_max_len = max(len_list)  # 找到最长的样本长度\n",
    "\n",
    "        input_ids, labels = [], []\n",
    "        for len_of_d, d in sorted(zip(len_list, batch_data), key=lambda x: -x[0]):\n",
    "            pad_len = batch_max_len - len_of_d  # 计算需要填充的长度\n",
    "            # 添加填充，并确保数据长度不超过最大长度限制\n",
    "            ids = d['input_ids'] + [self.pad_token_id] * pad_len\n",
    "            label = d['labels'] + [self.ignore_label_id] * pad_len\n",
    "            if batch_max_len > self.max_length:\n",
    "                ids = ids[:self.max_length]\n",
    "                label = label[:self.max_length]\n",
    "            input_ids.append(torch.LongTensor(ids))\n",
    "            labels.append(torch.LongTensor(label))\n",
    "\n",
    "        # 将处理后的数据堆叠成一个tensor\n",
    "        input_ids = torch.stack(input_ids)\n",
    "        labels = torch.stack(labels)\n",
    "\n",
    "        return {'input_ids': input_ids, 'labels': labels}"
   ]
  },
  {
   "cell_type": "code",
   "execution_count": 6,
   "id": "b9a64e4f-db41-4d0f-b106-397236354867",
   "metadata": {
    "execution": {
     "iopub.execute_input": "2024-04-16T03:36:23.993793Z",
     "iopub.status.busy": "2024-04-16T03:36:23.992792Z",
     "iopub.status.idle": "2024-04-16T03:36:23.995736Z",
     "shell.execute_reply": "2024-04-16T03:36:23.995736Z",
     "shell.execute_reply.started": "2024-04-16T03:36:23.993793Z"
    }
   },
   "outputs": [],
   "source": [
    "# 准备数据整理器\n",
    "data_collator = DataCollatorForChatGLM(pad_token_id=tokenizer.pad_token_id)"
   ]
  },
  {
   "cell_type": "code",
   "execution_count": 7,
   "id": "d7a4c815-7a6b-4903-9c06-c7414d75d393",
   "metadata": {
    "execution": {
     "iopub.execute_input": "2024-04-16T03:36:23.995736Z",
     "iopub.status.busy": "2024-04-16T03:36:23.995736Z",
     "iopub.status.idle": "2024-04-16T03:36:40.351344Z",
     "shell.execute_reply": "2024-04-16T03:36:40.351344Z",
     "shell.execute_reply.started": "2024-04-16T03:36:23.995736Z"
    }
   },
   "outputs": [
    {
     "data": {
      "application/vnd.jupyter.widget-view+json": {
       "model_id": "fdf313144b924a95bfda7326c4054394",
       "version_major": 2,
       "version_minor": 0
      },
      "text/plain": [
       "Loading checkpoint shards:   0%|          | 0/7 [00:00<?, ?it/s]"
      ]
     },
     "metadata": {},
     "output_type": "display_data"
    },
    {
     "name": "stdout",
     "output_type": "stream",
     "text": [
      "3739.69MiB\n"
     ]
    }
   ],
   "source": [
    "# 训练模型\n",
    "\n",
    "from transformers import AutoModel, BitsAndBytesConfig\n",
    "\n",
    "_compute_dtype_map = {\n",
    "    'fp32': torch.float32,\n",
    "    'fp16': torch.float16,\n",
    "    'bf16': torch.bfloat16\n",
    "}\n",
    "\n",
    "# QLoRA 量化配置\n",
    "q_config = BitsAndBytesConfig(load_in_4bit=True,\n",
    "                              bnb_4bit_quant_type='nf4',\n",
    "                              bnb_4bit_use_double_quant=True,\n",
    "                              bnb_4bit_compute_dtype=_compute_dtype_map['bf16'])\n",
    "\n",
    "# revision='b098244' 版本对应的 ChatGLM3-6B 设置 use_reentrant=False\n",
    "# 最新版本 use_reentrant 被设置为 True，会增加不必要的显存开销\n",
    "model = AutoModel.from_pretrained(model_name_or_path,\n",
    "                                  quantization_config=q_config,\n",
    "                                  device_map='auto',\n",
    "                                  trust_remote_code=True,\n",
    "                                  revision='b098244')\n",
    "\n",
    "# 获取当前模型占用的 GPU显存（差值为预留给 PyTorch 的显存）\n",
    "memory_footprint_bytes = model.get_memory_footprint()\n",
    "memory_footprint_mib = memory_footprint_bytes / (1024 ** 2)  # 转换为 MiB\n",
    "\n",
    "print(f\"{memory_footprint_mib:.2f}MiB\")"
   ]
  },
  {
   "cell_type": "code",
   "execution_count": 8,
   "id": "3e6f089b-0cb3-4c82-ae9e-2560d309c35a",
   "metadata": {
    "execution": {
     "iopub.execute_input": "2024-04-16T03:36:40.352345Z",
     "iopub.status.busy": "2024-04-16T03:36:40.351344Z",
     "iopub.status.idle": "2024-04-16T03:36:41.699733Z",
     "shell.execute_reply": "2024-04-16T03:36:41.699733Z",
     "shell.execute_reply.started": "2024-04-16T03:36:40.352345Z"
    }
   },
   "outputs": [],
   "source": [
    "from peft import TaskType, LoraConfig, get_peft_model, prepare_model_for_kbit_training\n",
    "\n",
    "kbit_model = prepare_model_for_kbit_training(model)\n",
    "\n",
    "from peft.utils import TRANSFORMERS_MODELS_TO_LORA_TARGET_MODULES_MAPPING\n",
    "\n",
    "target_modules = TRANSFORMERS_MODELS_TO_LORA_TARGET_MODULES_MAPPING['chatglm']"
   ]
  },
  {
   "cell_type": "code",
   "execution_count": 9,
   "id": "d9b1c9f8-7335-468f-9a8e-d7b453a5c114",
   "metadata": {
    "execution": {
     "iopub.execute_input": "2024-04-16T03:36:41.699733Z",
     "iopub.status.busy": "2024-04-16T03:36:41.699733Z",
     "iopub.status.idle": "2024-04-16T03:36:41.702618Z",
     "shell.execute_reply": "2024-04-16T03:36:41.702618Z",
     "shell.execute_reply.started": "2024-04-16T03:36:41.699733Z"
    }
   },
   "outputs": [],
   "source": [
    "lora_config = LoraConfig(\n",
    "    target_modules=target_modules,\n",
    "    r=lora_rank,\n",
    "    lora_alpha=lora_alpha,\n",
    "    lora_dropout=lora_dropout,\n",
    "    bias='none',\n",
    "    inference_mode=False,\n",
    "    task_type=TaskType.CAUSAL_LM\n",
    ")"
   ]
  },
  {
   "cell_type": "code",
   "execution_count": 10,
   "id": "0d96282c-37e2-4e82-aa89-5317084130ec",
   "metadata": {
    "execution": {
     "iopub.execute_input": "2024-04-16T03:36:41.703620Z",
     "iopub.status.busy": "2024-04-16T03:36:41.703620Z",
     "iopub.status.idle": "2024-04-16T03:36:41.846876Z",
     "shell.execute_reply": "2024-04-16T03:36:41.846876Z",
     "shell.execute_reply.started": "2024-04-16T03:36:41.703620Z"
    }
   },
   "outputs": [
    {
     "name": "stdout",
     "output_type": "stream",
     "text": [
      "trainable params: 974,848 || all params: 6,244,558,848 || trainable%: 0.01561115883009451\n"
     ]
    }
   ],
   "source": [
    "qlora_model = get_peft_model(kbit_model, lora_config)\n",
    "qlora_model.print_trainable_parameters()"
   ]
  },
  {
   "cell_type": "code",
   "execution_count": 11,
   "id": "4a24a068-daaf-41cd-b510-398c0bfef55c",
   "metadata": {
    "execution": {
     "iopub.execute_input": "2024-04-16T03:36:46.065890Z",
     "iopub.status.busy": "2024-04-16T03:36:46.065890Z",
     "iopub.status.idle": "2024-04-16T09:22:45.944230Z",
     "shell.execute_reply": "2024-04-16T09:22:45.943228Z",
     "shell.execute_reply.started": "2024-04-16T03:36:46.065890Z"
    }
   },
   "outputs": [
    {
     "name": "stderr",
     "output_type": "stream",
     "text": [
      "C:\\Users\\mtide\\miniconda3\\envs\\py311\\Lib\\site-packages\\accelerate\\accelerator.py:432: FutureWarning: Passing the following arguments to `Accelerator` is deprecated and will be removed in version 1.0 of Accelerate: dict_keys(['dispatch_batches', 'split_batches', 'even_batches', 'use_seedable_sampler']). Please pass an `accelerate.DataLoaderConfiguration` instead: \n",
      "dataloader_config = DataLoaderConfiguration(dispatch_batches=None, split_batches=False, even_batches=True, use_seedable_sampler=True)\n",
      "  warnings.warn(\n",
      "wandb: Currently logged in as: eddiezhang (eddieorg). Use `wandb login --relogin` to force relogin\n"
     ]
    },
    {
     "data": {
      "text/html": [
       "Tracking run with wandb version 0.16.6"
      ],
      "text/plain": [
       "<IPython.core.display.HTML object>"
      ]
     },
     "metadata": {},
     "output_type": "display_data"
    },
    {
     "data": {
      "text/html": [
       "Run data is saved locally in <code>d:\\MTIDE\\code\\AI\\learning\\bochs-bs\\LLM-learning\\peft\\wandb\\run-20240416_113649-y7lavnn1</code>"
      ],
      "text/plain": [
       "<IPython.core.display.HTML object>"
      ]
     },
     "metadata": {},
     "output_type": "display_data"
    },
    {
     "data": {
      "text/html": [
       "Syncing run <strong><a href='https://wandb.ai/eddieorg/huggingface/runs/y7lavnn1' target=\"_blank\">sparkling-shadow-5</a></strong> to <a href='https://wandb.ai/eddieorg/huggingface' target=\"_blank\">Weights & Biases</a> (<a href='https://wandb.me/run' target=\"_blank\">docs</a>)<br/>"
      ],
      "text/plain": [
       "<IPython.core.display.HTML object>"
      ]
     },
     "metadata": {},
     "output_type": "display_data"
    },
    {
     "data": {
      "text/html": [
       " View project at <a href='https://wandb.ai/eddieorg/huggingface' target=\"_blank\">https://wandb.ai/eddieorg/huggingface</a>"
      ],
      "text/plain": [
       "<IPython.core.display.HTML object>"
      ]
     },
     "metadata": {},
     "output_type": "display_data"
    },
    {
     "data": {
      "text/html": [
       " View run at <a href='https://wandb.ai/eddieorg/huggingface/runs/y7lavnn1' target=\"_blank\">https://wandb.ai/eddieorg/huggingface/runs/y7lavnn1</a>"
      ],
      "text/plain": [
       "<IPython.core.display.HTML object>"
      ]
     },
     "metadata": {},
     "output_type": "display_data"
    },
    {
     "name": "stderr",
     "output_type": "stream",
     "text": [
      "D:\\MTIDE\\.cache\\huggingface\\modules\\transformers_modules\\chatglm3-6b\\modeling_chatglm.py:226: UserWarning: 1Torch was not compiled with flash attention. (Triggered internally at ..\\aten\\src\\ATen\\native\\transformers\\cuda\\sdp_utils.cpp:263.)\n",
      "  context_layer = torch.nn.functional.scaled_dot_product_attention(query_layer, key_layer, value_layer,\n"
     ]
    },
    {
     "data": {
      "text/html": [
       "\n",
       "    <div>\n",
       "      \n",
       "      <progress value='350' max='350' style='width:300px; height:20px; vertical-align: middle;'></progress>\n",
       "      [350/350 5:45:22, Epoch 0/1]\n",
       "    </div>\n",
       "    <table border=\"1\" class=\"dataframe\">\n",
       "  <thead>\n",
       " <tr style=\"text-align: left;\">\n",
       "      <th>Step</th>\n",
       "      <th>Training Loss</th>\n",
       "    </tr>\n",
       "  </thead>\n",
       "  <tbody>\n",
       "    <tr>\n",
       "      <td>20</td>\n",
       "      <td>4.549600</td>\n",
       "    </tr>\n",
       "    <tr>\n",
       "      <td>40</td>\n",
       "      <td>3.703800</td>\n",
       "    </tr>\n",
       "    <tr>\n",
       "      <td>60</td>\n",
       "      <td>3.519800</td>\n",
       "    </tr>\n",
       "    <tr>\n",
       "      <td>80</td>\n",
       "      <td>3.467700</td>\n",
       "    </tr>\n",
       "    <tr>\n",
       "      <td>100</td>\n",
       "      <td>3.423000</td>\n",
       "    </tr>\n",
       "    <tr>\n",
       "      <td>120</td>\n",
       "      <td>3.392900</td>\n",
       "    </tr>\n",
       "    <tr>\n",
       "      <td>140</td>\n",
       "      <td>3.367900</td>\n",
       "    </tr>\n",
       "    <tr>\n",
       "      <td>160</td>\n",
       "      <td>3.341700</td>\n",
       "    </tr>\n",
       "    <tr>\n",
       "      <td>180</td>\n",
       "      <td>3.363300</td>\n",
       "    </tr>\n",
       "    <tr>\n",
       "      <td>200</td>\n",
       "      <td>3.282600</td>\n",
       "    </tr>\n",
       "    <tr>\n",
       "      <td>220</td>\n",
       "      <td>3.267900</td>\n",
       "    </tr>\n",
       "    <tr>\n",
       "      <td>240</td>\n",
       "      <td>3.268600</td>\n",
       "    </tr>\n",
       "    <tr>\n",
       "      <td>260</td>\n",
       "      <td>3.228000</td>\n",
       "    </tr>\n",
       "    <tr>\n",
       "      <td>280</td>\n",
       "      <td>3.236600</td>\n",
       "    </tr>\n",
       "    <tr>\n",
       "      <td>300</td>\n",
       "      <td>3.222300</td>\n",
       "    </tr>\n",
       "    <tr>\n",
       "      <td>320</td>\n",
       "      <td>3.204600</td>\n",
       "    </tr>\n",
       "    <tr>\n",
       "      <td>340</td>\n",
       "      <td>3.235700</td>\n",
       "    </tr>\n",
       "  </tbody>\n",
       "</table><p>"
      ],
      "text/plain": [
       "<IPython.core.display.HTML object>"
      ]
     },
     "metadata": {},
     "output_type": "display_data"
    },
    {
     "name": "stderr",
     "output_type": "stream",
     "text": [
      "C:\\Users\\mtide\\miniconda3\\envs\\py311\\Lib\\site-packages\\peft\\utils\\save_and_load.py:154: UserWarning: Could not find a config file in D:\\MTIDE\\code\\AI\\models\\THUDM\\chatglm3-6b - will assume that the vocabulary was not modified.\n",
      "  warnings.warn(\n",
      "C:\\Users\\mtide\\miniconda3\\envs\\py311\\Lib\\site-packages\\peft\\utils\\save_and_load.py:154: UserWarning: Could not find a config file in D:\\MTIDE\\code\\AI\\models\\THUDM\\chatglm3-6b - will assume that the vocabulary was not modified.\n",
      "  warnings.warn(\n",
      "C:\\Users\\mtide\\miniconda3\\envs\\py311\\Lib\\site-packages\\peft\\utils\\save_and_load.py:154: UserWarning: Could not find a config file in D:\\MTIDE\\code\\AI\\models\\THUDM\\chatglm3-6b - will assume that the vocabulary was not modified.\n",
      "  warnings.warn(\n"
     ]
    },
    {
     "data": {
      "text/plain": [
       "TrainOutput(global_step=350, training_loss=3.409273245675223, metrics={'train_runtime': 20759.0064, 'train_samples_per_second': 0.54, 'train_steps_per_second': 0.017, 'total_flos': 6.318567813434573e+16, 'train_loss': 3.409273245675223, 'epoch': 0.1})"
      ]
     },
     "execution_count": 11,
     "metadata": {},
     "output_type": "execute_result"
    }
   ],
   "source": [
    "# 至少 10K examples\n",
    "# 8*4*350 = 11.2K examples\n",
    "\n",
    "from transformers import TrainingArguments, Trainer\n",
    "\n",
    "training_args = TrainingArguments(\n",
    "    output_dir=\"models/THUDM/chatglm3-6b\",          # 输出目录\n",
    "    per_device_train_batch_size=8,                     # 每个设备的训练批量大小\n",
    "    gradient_accumulation_steps=4,                     # 梯度累积步数\n",
    "    # per_device_eval_batch_size=8,                      # 每个设备的评估批量大小\n",
    "    learning_rate=1e-3,                                # 学习率\n",
    "    max_steps=350,                                     # 训练步数\n",
    "    num_train_epochs=1,                                # 训练轮数\n",
    "    lr_scheduler_type=\"linear\",                        # 学习率调度器类型\n",
    "    warmup_ratio=0.1,                                  # 预热比例\n",
    "    logging_steps=20,                                 # 日志记录步数\n",
    "    save_strategy=\"steps\",                             # 模型保存策略\n",
    "    save_steps=100,                                    # 模型保存步数\n",
    "    # evaluation_strategy=\"steps\",                       # 评估策略\n",
    "    # eval_steps=500,                                    # 评估步数\n",
    "    optim=\"adamw_torch\",                               # 优化器类型\n",
    "    fp16=True,                                        # 是否使用混合精度训练\n",
    ")\n",
    "\n",
    "trainer = Trainer(\n",
    "        model=qlora_model,\n",
    "        args=training_args,\n",
    "        train_dataset=tokenized_dataset,\n",
    "        data_collator=data_collator\n",
    "    )\n",
    "\n",
    "trainer.train()"
   ]
  },
  {
   "cell_type": "code",
   "execution_count": 13,
   "id": "510dc475-f120-4495-80d5-c09ea0a3240e",
   "metadata": {
    "execution": {
     "iopub.execute_input": "2024-04-16T09:29:28.961831Z",
     "iopub.status.busy": "2024-04-16T09:29:28.961831Z",
     "iopub.status.idle": "2024-04-16T09:29:29.004586Z",
     "shell.execute_reply": "2024-04-16T09:29:29.004586Z",
     "shell.execute_reply.started": "2024-04-16T09:29:28.961831Z"
    }
   },
   "outputs": [
    {
     "name": "stderr",
     "output_type": "stream",
     "text": [
      "C:\\Users\\mtide\\miniconda3\\envs\\py311\\Lib\\site-packages\\peft\\utils\\save_and_load.py:154: UserWarning: Could not find a config file in D:\\MTIDE\\code\\AI\\models\\THUDM\\chatglm3-6b - will assume that the vocabulary was not modified.\n",
      "  warnings.warn(\n"
     ]
    }
   ],
   "source": [
    "trainer.model.save_pretrained(\"models/THUDM/chatglm3-6b\")"
   ]
  },
  {
   "cell_type": "code",
   "execution_count": 2,
   "id": "c2422497-8513-484a-ab74-e9930950d5c2",
   "metadata": {
    "execution": {
     "iopub.execute_input": "2024-04-16T09:32:24.345758Z",
     "iopub.status.busy": "2024-04-16T09:32:24.345758Z",
     "iopub.status.idle": "2024-04-16T09:32:28.687973Z",
     "shell.execute_reply": "2024-04-16T09:32:28.687973Z",
     "shell.execute_reply.started": "2024-04-16T09:32:24.345758Z"
    }
   },
   "outputs": [],
   "source": [
    "# 模型推理\n",
    "\n",
    "import os\n",
    "\n",
    "os.environ['HF_HOME'] = 'D:\\MTIDE\\.cache\\huggingface'\n",
    "os.environ['HF_HUB_CACHE'] = 'D:\\MTIDE\\.cache\\huggingface\\hub'\n",
    "\n",
    "import torch\n",
    "from transformers import AutoModel, AutoTokenizer, BitsAndBytesConfig\n",
    "from peft import PeftModel, PeftConfig\n",
    "\n",
    "# 定义全局变量和参数\n",
    "# model_name_or_path = 'THUDM/chatglm3-6b'  # 模型ID或本地路径\n",
    "model_name_or_path = 'D:\\MTIDE\\code\\AI\\models\\THUDM\\chatglm3-6b'  # 模型ID或本地路径\n",
    "peft_model_path = \"models/THUDM/chatglm3-6b\""
   ]
  },
  {
   "cell_type": "code",
   "execution_count": 3,
   "id": "7bd6563a-d72d-4d3d-846e-2990b74e5429",
   "metadata": {
    "execution": {
     "iopub.execute_input": "2024-04-16T09:32:33.291517Z",
     "iopub.status.busy": "2024-04-16T09:32:33.291517Z",
     "iopub.status.idle": "2024-04-16T09:32:49.824099Z",
     "shell.execute_reply": "2024-04-16T09:32:49.824099Z",
     "shell.execute_reply.started": "2024-04-16T09:32:33.291517Z"
    }
   },
   "outputs": [
    {
     "data": {
      "application/vnd.jupyter.widget-view+json": {
       "model_id": "d23d2a79e1a248d8bb12aa9064da764f",
       "version_major": 2,
       "version_minor": 0
      },
      "text/plain": [
       "Loading checkpoint shards:   0%|          | 0/7 [00:00<?, ?it/s]"
      ]
     },
     "metadata": {},
     "output_type": "display_data"
    },
    {
     "data": {
      "text/plain": [
       "ChatGLMForConditionalGeneration(\n",
       "  (transformer): ChatGLMModel(\n",
       "    (embedding): Embedding(\n",
       "      (word_embeddings): Embedding(65024, 4096)\n",
       "    )\n",
       "    (rotary_pos_emb): RotaryEmbedding()\n",
       "    (encoder): GLMTransformer(\n",
       "      (layers): ModuleList(\n",
       "        (0-27): 28 x GLMBlock(\n",
       "          (input_layernorm): RMSNorm()\n",
       "          (self_attention): SelfAttention(\n",
       "            (query_key_value): Linear4bit(in_features=4096, out_features=4608, bias=True)\n",
       "            (core_attention): CoreAttention(\n",
       "              (attention_dropout): Dropout(p=0.0, inplace=False)\n",
       "            )\n",
       "            (dense): Linear4bit(in_features=4096, out_features=4096, bias=False)\n",
       "          )\n",
       "          (post_attention_layernorm): RMSNorm()\n",
       "          (mlp): MLP(\n",
       "            (dense_h_to_4h): Linear4bit(in_features=4096, out_features=27392, bias=False)\n",
       "            (dense_4h_to_h): Linear4bit(in_features=13696, out_features=4096, bias=False)\n",
       "          )\n",
       "        )\n",
       "      )\n",
       "      (final_layernorm): RMSNorm()\n",
       "    )\n",
       "    (output_layer): Linear(in_features=4096, out_features=65024, bias=False)\n",
       "  )\n",
       ")"
      ]
     },
     "execution_count": 3,
     "metadata": {},
     "output_type": "execute_result"
    }
   ],
   "source": [
    "config = PeftConfig.from_pretrained(peft_model_path)\n",
    "\n",
    "q_config = BitsAndBytesConfig(load_in_4bit=True,\n",
    "                              bnb_4bit_quant_type='nf4',\n",
    "                              bnb_4bit_use_double_quant=True,\n",
    "                              bnb_4bit_compute_dtype=torch.float32)\n",
    "\n",
    "base_model = AutoModel.from_pretrained(config.base_model_name_or_path,\n",
    "                                       quantization_config=q_config,\n",
    "                                       trust_remote_code=True,\n",
    "                                       device_map='auto')\n",
    "base_model.requires_grad_(False)\n",
    "base_model.eval()"
   ]
  },
  {
   "cell_type": "code",
   "execution_count": 4,
   "id": "c3bdd1f2-fe09-44ab-aedb-a0e6831cd23b",
   "metadata": {
    "execution": {
     "iopub.execute_input": "2024-04-16T09:32:55.461907Z",
     "iopub.status.busy": "2024-04-16T09:32:55.461907Z",
     "iopub.status.idle": "2024-04-16T09:32:55.546902Z",
     "shell.execute_reply": "2024-04-16T09:32:55.546902Z",
     "shell.execute_reply.started": "2024-04-16T09:32:55.461907Z"
    }
   },
   "outputs": [
    {
     "name": "stderr",
     "output_type": "stream",
     "text": [
      "Setting eos_token is not supported, use the default one.\n",
      "Setting pad_token is not supported, use the default one.\n",
      "Setting unk_token is not supported, use the default one.\n"
     ]
    },
    {
     "name": "stdout",
     "output_type": "stream",
     "text": [
      "输入：\n",
      "类型#裙*版型#显瘦*风格#文艺*风格#简约*图案#印花*图案#撞色*裙下摆#压褶*裙长#连衣裙*裙领型#圆领\n"
     ]
    }
   ],
   "source": [
    "# 微调前后效果对比\n",
    "\n",
    "input_text = '类型#裙*版型#显瘦*风格#文艺*风格#简约*图案#印花*图案#撞色*裙下摆#压褶*裙长#连衣裙*裙领型#圆领'\n",
    "print(f'输入：\\n{input_text}')\n",
    "tokenizer = AutoTokenizer.from_pretrained(config.base_model_name_or_path, trust_remote_code=True)"
   ]
  },
  {
   "cell_type": "code",
   "execution_count": 5,
   "id": "1f907741-02b1-4e41-83e6-6f70adbd2d48",
   "metadata": {
    "execution": {
     "iopub.execute_input": "2024-04-16T09:33:00.043555Z",
     "iopub.status.busy": "2024-04-16T09:33:00.043555Z",
     "iopub.status.idle": "2024-04-16T09:33:05.156097Z",
     "shell.execute_reply": "2024-04-16T09:33:05.156097Z",
     "shell.execute_reply.started": "2024-04-16T09:33:00.043555Z"
    }
   },
   "outputs": [
    {
     "name": "stderr",
     "output_type": "stream",
     "text": [
      "C:\\Users\\mtide\\miniconda3\\envs\\py311\\Lib\\site-packages\\bitsandbytes\\nn\\modules.py:391: UserWarning: Input type into Linear4bit is torch.float16, but bnb_4bit_compute_dtype=torch.float32 (default). This will lead to slow inference or training speed.\n",
      "  warnings.warn('Input type into Linear4bit is torch.float16, but bnb_4bit_compute_dtype=torch.float32 (default). This will lead to slow inference or training speed.')\n",
      "D:\\MTIDE\\.cache\\huggingface\\modules\\transformers_modules\\chatglm3-6b\\modeling_chatglm.py:226: UserWarning: 1Torch was not compiled with flash attention. (Triggered internally at ..\\aten\\src\\ATen\\native\\transformers\\cuda\\sdp_utils.cpp:263.)\n",
      "  context_layer = torch.nn.functional.scaled_dot_product_attention(query_layer, key_layer, value_layer,\n"
     ]
    },
    {
     "name": "stdout",
     "output_type": "stream",
     "text": [
      "ChatGLM3-6B 微调前：\n",
      "这款连衣裙以其文艺风格和简约设计吸引了我的注意。它的印花图案和撞色裙下摆为整个设计增添了时尚感。压褶的设计在裙长处呈现出优雅的波浪形状，增添了女性的柔美。圆领的设计使得连衣裙显得更加高贵典雅。\n",
      "\n",
      "这款连衣裙非常适合那些喜欢简约风格但又希望尝试一些不同元素的人。它既不会过于复杂，也能提供一些时尚的元素，让你在穿着时感到自信和舒适。\n",
      "\n",
      "如果你正在寻找一款能让你显瘦的连衣裙，这款可能会成为你的新最爱。它的设计完美地展示了你的身材，并让你看起来更加修长。\n",
      "\n",
      "总的来说，这款连衣裙以其独特的设计和优良的品质，无疑是一款值得购买的时尚单品。\n"
     ]
    }
   ],
   "source": [
    "# 微调前\n",
    "response, history = base_model.chat(tokenizer=tokenizer, query=input_text)\n",
    "print(f'ChatGLM3-6B 微调前：\\n{response}')"
   ]
  },
  {
   "cell_type": "code",
   "execution_count": 6,
   "id": "af9c8d6d-6959-4cc1-9270-ead9b4d8b408",
   "metadata": {
    "execution": {
     "iopub.execute_input": "2024-04-16T09:33:20.094833Z",
     "iopub.status.busy": "2024-04-16T09:33:20.093836Z",
     "iopub.status.idle": "2024-04-16T09:33:22.461031Z",
     "shell.execute_reply": "2024-04-16T09:33:22.461031Z",
     "shell.execute_reply.started": "2024-04-16T09:33:20.094833Z"
    }
   },
   "outputs": [
    {
     "name": "stdout",
     "output_type": "stream",
     "text": [
      "ChatGLM3-6B 微调后: \n",
      "这款连衣裙采用简约的圆领设计，穿起来舒适不紧绷，同时展现颈部线条，更显颈部纤细。搭配撞色的腰带，增添几分俏皮感，修饰腰身，凸显身材。压褶的裙摆设计，修饰臀部和腿部，更显修长美腿，搭配上印花图案，文艺范十足。\n"
     ]
    }
   ],
   "source": [
    "# 微调后\n",
    "# 微调后的文本输出，明显更加符合广告词的风格。\n",
    "model = PeftModel.from_pretrained(base_model, peft_model_path)\n",
    "response, history = model.chat(tokenizer=tokenizer, query=input_text)\n",
    "print(f'ChatGLM3-6B 微调后: \\n{response}')"
   ]
  },
  {
   "cell_type": "code",
   "execution_count": null,
   "id": "5091e0a5-839a-400a-b72e-062252694e52",
   "metadata": {},
   "outputs": [],
   "source": []
  }
 ],
 "metadata": {
  "kernelspec": {
   "display_name": "py311",
   "language": "python",
   "name": "py311"
  },
  "language_info": {
   "codemirror_mode": {
    "name": "ipython",
    "version": 3
   },
   "file_extension": ".py",
   "mimetype": "text/x-python",
   "name": "python",
   "nbconvert_exporter": "python",
   "pygments_lexer": "ipython3",
   "version": "3.11.8"
  }
 },
 "nbformat": 4,
 "nbformat_minor": 5
}
