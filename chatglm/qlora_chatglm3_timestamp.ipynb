{
 "cells": [
  {
   "cell_type": "code",
   "execution_count": 1,
   "id": "fe7d14b2-333b-4595-98de-bba672b42560",
   "metadata": {
    "execution": {
     "iopub.execute_input": "2024-04-17T04:49:58.072032Z",
     "iopub.status.busy": "2024-04-17T04:49:58.072032Z",
     "iopub.status.idle": "2024-04-17T04:49:58.076439Z",
     "shell.execute_reply": "2024-04-17T04:49:58.076439Z",
     "shell.execute_reply.started": "2024-04-17T04:49:58.072032Z"
    }
   },
   "outputs": [],
   "source": [
    "# 第十章作业\n",
    "# 基于 data 目录下的数据训练 ChatGLM3 模型，使用 inference Notebook 对比微调前后的效果\n",
    "\n",
    "import os\n",
    "\n",
    "os.environ['HF_HOME'] = 'D:\\MTIDE\\.cache\\huggingface'\n",
    "os.environ['HF_HUB_CACHE'] = 'D:\\MTIDE\\.cache\\huggingface\\hub'\n",
    "\n",
    "# 定义全局变量和参数\n",
    "# model_name_or_path = 'THUDM/chatglm3-6b'  # 模型ID或本地路径\n",
    "model_name_or_path = 'D:\\MTIDE\\code\\AI\\models\\THUDM\\chatglm3-6b'  # 模型ID或本地路径\n",
    "train_data_path = 'data/zhouyi_dataset_20240118_163659.csv'    # 训练数据路径(批量生成数据集）\n",
    "eval_data_path = None                     # 验证数据路径，如果没有则设置为None\n",
    "seed = 8                                 # 随机种子\n",
    "max_input_length = 512                    # 输入的最大长度\n",
    "max_output_length = 1536                  # 输出的最大长度\n",
    "lora_rank = 16                             # LoRA秩\n",
    "lora_alpha = 32                           # LoRA alpha值\n",
    "lora_dropout = 0.05                       # LoRA Dropout率\n",
    "prompt_text = ''                          # 所有数据前的指令文本"
   ]
  },
  {
   "cell_type": "code",
   "execution_count": 2,
   "id": "ac3e1089-5b1a-4cf7-9611-f26f016a0a3a",
   "metadata": {
    "execution": {
     "iopub.execute_input": "2024-04-17T04:50:00.408252Z",
     "iopub.status.busy": "2024-04-17T04:50:00.408252Z",
     "iopub.status.idle": "2024-04-17T04:50:03.759595Z",
     "shell.execute_reply": "2024-04-17T04:50:03.759595Z",
     "shell.execute_reply.started": "2024-04-17T04:50:00.408252Z"
    }
   },
   "outputs": [
    {
     "name": "stdout",
     "output_type": "stream",
     "text": [
      "DatasetDict({\n",
      "    train: Dataset({\n",
      "        features: ['content', 'summary'],\n",
      "        num_rows: 160\n",
      "    })\n",
      "})\n"
     ]
    },
    {
     "name": "stderr",
     "output_type": "stream",
     "text": [
      "Setting eos_token is not supported, use the default one.\n",
      "Setting pad_token is not supported, use the default one.\n",
      "Setting unk_token is not supported, use the default one.\n"
     ]
    }
   ],
   "source": [
    "# 数据处理\n",
    "\n",
    "from datasets import load_dataset\n",
    "\n",
    "dataset = load_dataset(\"csv\", data_files=train_data_path)\n",
    "print(dataset)\n",
    "\n",
    "from transformers import AutoTokenizer\n",
    "\n",
    "tokenizer = AutoTokenizer.from_pretrained(model_name_or_path,\n",
    "                                          trust_remote_code=True,\n",
    "                                          revision='b098244')\n",
    "\n",
    "# tokenize_func 函数\n",
    "def tokenize_func(example, tokenizer, ignore_label_id=-100):\n",
    "    \"\"\"\n",
    "    对单个数据样本进行tokenize处理。\n",
    "\n",
    "    参数:\n",
    "    example (dict): 包含'content'和'summary'键的字典，代表训练数据的一个样本。\n",
    "    tokenizer (transformers.PreTrainedTokenizer): 用于tokenize文本的tokenizer。\n",
    "    ignore_label_id (int, optional): 在label中用于填充的忽略ID，默认为-100。\n",
    "\n",
    "    返回:\n",
    "    dict: 包含'tokenized_input_ids'和'labels'的字典，用于模型训练。\n",
    "    \"\"\"\n",
    "\n",
    "    # 构建问题文本\n",
    "    question = prompt_text + example['content']\n",
    "    if example.get('input', None) and example['input'].strip():\n",
    "        question += f'\\n{example[\"input\"]}'\n",
    "\n",
    "    # 构建答案文本\n",
    "    answer = example['summary']\n",
    "\n",
    "    # 对问题和答案文本进行tokenize处理\n",
    "    q_ids = tokenizer.encode(text=question, add_special_tokens=False)\n",
    "    a_ids = tokenizer.encode(text=answer, add_special_tokens=False)\n",
    "\n",
    "    # 如果tokenize后的长度超过最大长度限制，则进行截断\n",
    "    if len(q_ids) > max_input_length - 2:  # 保留空间给gmask和bos标记\n",
    "        q_ids = q_ids[:max_input_length - 2]\n",
    "    if len(a_ids) > max_output_length - 1:  # 保留空间给eos标记\n",
    "        a_ids = a_ids[:max_output_length - 1]\n",
    "\n",
    "    # 构建模型的输入格式\n",
    "    input_ids = tokenizer.build_inputs_with_special_tokens(q_ids, a_ids)\n",
    "    question_length = len(q_ids) + 2  # 加上gmask和bos标记\n",
    "\n",
    "    # 构建标签，对于问题部分的输入使用ignore_label_id进行填充\n",
    "    labels = [ignore_label_id] * question_length + input_ids[question_length:]\n",
    "\n",
    "    return {'input_ids': input_ids, 'labels': labels}"
   ]
  },
  {
   "cell_type": "code",
   "execution_count": 3,
   "id": "edcb27fb-46d6-418f-817e-c9a00d1cba58",
   "metadata": {
    "execution": {
     "iopub.execute_input": "2024-04-17T04:50:07.407845Z",
     "iopub.status.busy": "2024-04-17T04:50:07.407845Z",
     "iopub.status.idle": "2024-04-17T04:50:07.427670Z",
     "shell.execute_reply": "2024-04-17T04:50:07.427670Z",
     "shell.execute_reply.started": "2024-04-17T04:50:07.407845Z"
    }
   },
   "outputs": [],
   "source": [
    "column_names = dataset['train'].column_names\n",
    "tokenized_dataset = dataset['train'].map(\n",
    "    lambda example: tokenize_func(example, tokenizer),\n",
    "    batched=False, \n",
    "    remove_columns=column_names\n",
    ")"
   ]
  },
  {
   "cell_type": "code",
   "execution_count": 4,
   "id": "767e9859-a2c2-4f27-8cd1-14fd8f383868",
   "metadata": {
    "execution": {
     "iopub.execute_input": "2024-04-17T04:50:10.197437Z",
     "iopub.status.busy": "2024-04-17T04:50:10.197437Z",
     "iopub.status.idle": "2024-04-17T04:50:10.204828Z",
     "shell.execute_reply": "2024-04-17T04:50:10.204828Z",
     "shell.execute_reply.started": "2024-04-17T04:50:10.197437Z"
    }
   },
   "outputs": [],
   "source": [
    "tokenized_dataset = tokenized_dataset.shuffle(seed=seed)\n",
    "tokenized_dataset = tokenized_dataset.flatten_indices()"
   ]
  },
  {
   "cell_type": "code",
   "execution_count": 5,
   "id": "e4147d62-aa71-429e-9a2c-53e9dee12fb3",
   "metadata": {
    "execution": {
     "iopub.execute_input": "2024-04-17T04:50:12.713115Z",
     "iopub.status.busy": "2024-04-17T04:50:12.712116Z",
     "iopub.status.idle": "2024-04-17T04:50:12.719514Z",
     "shell.execute_reply": "2024-04-17T04:50:12.719514Z",
     "shell.execute_reply.started": "2024-04-17T04:50:12.713115Z"
    }
   },
   "outputs": [],
   "source": [
    "import torch\n",
    "from typing import List, Dict, Optional\n",
    "\n",
    "# DataCollatorForChatGLM 类\n",
    "class DataCollatorForChatGLM:\n",
    "    \"\"\"\n",
    "    用于处理批量数据的DataCollator，尤其是在使用 ChatGLM 模型时。\n",
    "\n",
    "    该类负责将多个数据样本（tokenized input）合并为一个批量，并在必要时进行填充(padding)。\n",
    "\n",
    "    属性:\n",
    "    pad_token_id (int): 用于填充(padding)的token ID。\n",
    "    max_length (int): 单个批量数据的最大长度限制。\n",
    "    ignore_label_id (int): 在标签中用于填充的ID。\n",
    "    \"\"\"\n",
    "\n",
    "    def __init__(self, pad_token_id: int, max_length: int = 2048, ignore_label_id: int = -100):\n",
    "        \"\"\"\n",
    "        初始化DataCollator。\n",
    "\n",
    "        参数:\n",
    "        pad_token_id (int): 用于填充(padding)的token ID。\n",
    "        max_length (int): 单个批量数据的最大长度限制。\n",
    "        ignore_label_id (int): 在标签中用于填充的ID，默认为-100。\n",
    "        \"\"\"\n",
    "        self.pad_token_id = pad_token_id\n",
    "        self.ignore_label_id = ignore_label_id\n",
    "        self.max_length = max_length\n",
    "\n",
    "    def __call__(self, batch_data: List[Dict[str, List]]) -> Dict[str, torch.Tensor]:\n",
    "        \"\"\"\n",
    "        处理批量数据。\n",
    "\n",
    "        参数:\n",
    "        batch_data (List[Dict[str, List]]): 包含多个样本的字典列表。\n",
    "\n",
    "        返回:\n",
    "        Dict[str, torch.Tensor]: 包含处理后的批量数据的字典。\n",
    "        \"\"\"\n",
    "        # 计算批量中每个样本的长度\n",
    "        len_list = [len(d['input_ids']) for d in batch_data]\n",
    "        batch_max_len = max(len_list)  # 找到最长的样本长度\n",
    "\n",
    "        input_ids, labels = [], []\n",
    "        for len_of_d, d in sorted(zip(len_list, batch_data), key=lambda x: -x[0]):\n",
    "            pad_len = batch_max_len - len_of_d  # 计算需要填充的长度\n",
    "            # 添加填充，并确保数据长度不超过最大长度限制\n",
    "            ids = d['input_ids'] + [self.pad_token_id] * pad_len\n",
    "            label = d['labels'] + [self.ignore_label_id] * pad_len\n",
    "            if batch_max_len > self.max_length:\n",
    "                ids = ids[:self.max_length]\n",
    "                label = label[:self.max_length]\n",
    "            input_ids.append(torch.LongTensor(ids))\n",
    "            labels.append(torch.LongTensor(label))\n",
    "\n",
    "        # 将处理后的数据堆叠成一个tensor\n",
    "        input_ids = torch.stack(input_ids)\n",
    "        labels = torch.stack(labels)\n",
    "\n",
    "        return {'input_ids': input_ids, 'labels': labels}"
   ]
  },
  {
   "cell_type": "code",
   "execution_count": 6,
   "id": "3dac7d73-7575-4ddc-b8e0-7c97b4b32f5a",
   "metadata": {
    "execution": {
     "iopub.execute_input": "2024-04-17T04:50:14.751435Z",
     "iopub.status.busy": "2024-04-17T04:50:14.751435Z",
     "iopub.status.idle": "2024-04-17T04:50:14.753816Z",
     "shell.execute_reply": "2024-04-17T04:50:14.753816Z",
     "shell.execute_reply.started": "2024-04-17T04:50:14.751435Z"
    }
   },
   "outputs": [],
   "source": [
    "# 准备数据整理器\n",
    "data_collator = DataCollatorForChatGLM(pad_token_id=tokenizer.pad_token_id)"
   ]
  },
  {
   "cell_type": "code",
   "execution_count": 7,
   "id": "2597183c-ce85-4aa9-88a4-9900df91be60",
   "metadata": {
    "execution": {
     "iopub.execute_input": "2024-04-17T04:50:16.435666Z",
     "iopub.status.busy": "2024-04-17T04:50:16.435666Z",
     "iopub.status.idle": "2024-04-17T04:50:33.154468Z",
     "shell.execute_reply": "2024-04-17T04:50:33.154468Z",
     "shell.execute_reply.started": "2024-04-17T04:50:16.435666Z"
    }
   },
   "outputs": [
    {
     "data": {
      "application/vnd.jupyter.widget-view+json": {
       "model_id": "0bf797cd6cd346fd99bf55a134676ea6",
       "version_major": 2,
       "version_minor": 0
      },
      "text/plain": [
       "Loading checkpoint shards:   0%|          | 0/7 [00:00<?, ?it/s]"
      ]
     },
     "metadata": {},
     "output_type": "display_data"
    }
   ],
   "source": [
    "# 加载模型\n",
    "\n",
    "from transformers import AutoModel, BitsAndBytesConfig\n",
    "\n",
    "_compute_dtype_map = {\n",
    "    'fp32': torch.float32,\n",
    "    'fp16': torch.float16,\n",
    "    'bf16': torch.bfloat16\n",
    "}\n",
    "\n",
    "# QLoRA 量化配置\n",
    "q_config = BitsAndBytesConfig(load_in_4bit=True,\n",
    "                              bnb_4bit_quant_type='nf4',\n",
    "                              bnb_4bit_use_double_quant=True,\n",
    "                              bnb_4bit_compute_dtype=_compute_dtype_map['bf16'])\n",
    "# 加载量化后模型\n",
    "model = AutoModel.from_pretrained(model_name_or_path,\n",
    "                                  quantization_config=q_config,\n",
    "                                  device_map='auto',\n",
    "                                  trust_remote_code=True,\n",
    "                                  revision='b098244')\n",
    "\n",
    "model.supports_gradient_checkpointing = True  \n",
    "model.gradient_checkpointing_enable()\n",
    "model.enable_input_require_grads()\n",
    "\n",
    "model.config.use_cache = False  # silence the warnings. Please re-enable for inference!"
   ]
  },
  {
   "cell_type": "code",
   "execution_count": 8,
   "id": "766ce7ca-f915-4649-bc64-8adabb12c727",
   "metadata": {
    "execution": {
     "iopub.execute_input": "2024-04-17T04:50:35.314943Z",
     "iopub.status.busy": "2024-04-17T04:50:35.313943Z",
     "iopub.status.idle": "2024-04-17T04:50:37.042042Z",
     "shell.execute_reply": "2024-04-17T04:50:37.042042Z",
     "shell.execute_reply.started": "2024-04-17T04:50:35.314943Z"
    }
   },
   "outputs": [],
   "source": [
    "from peft import TaskType, LoraConfig, get_peft_model, prepare_model_for_kbit_training\n",
    "from peft.utils import TRANSFORMERS_MODELS_TO_LORA_TARGET_MODULES_MAPPING\n",
    "\n",
    "kbit_model = prepare_model_for_kbit_training(model)\n",
    "target_modules = TRANSFORMERS_MODELS_TO_LORA_TARGET_MODULES_MAPPING['chatglm']"
   ]
  },
  {
   "cell_type": "code",
   "execution_count": 9,
   "id": "ca439e40-66dc-4e55-a199-1af5b1d124a2",
   "metadata": {
    "execution": {
     "iopub.execute_input": "2024-04-17T04:50:39.644865Z",
     "iopub.status.busy": "2024-04-17T04:50:39.644865Z",
     "iopub.status.idle": "2024-04-17T04:50:39.647260Z",
     "shell.execute_reply": "2024-04-17T04:50:39.647260Z",
     "shell.execute_reply.started": "2024-04-17T04:50:39.644865Z"
    }
   },
   "outputs": [],
   "source": [
    "lora_config = LoraConfig(\n",
    "    target_modules=target_modules,\n",
    "    r=lora_rank,\n",
    "    lora_alpha=lora_alpha,\n",
    "    lora_dropout=lora_dropout,\n",
    "    bias='none',\n",
    "    inference_mode=False,\n",
    "    task_type=TaskType.CAUSAL_LM\n",
    ")"
   ]
  },
  {
   "cell_type": "code",
   "execution_count": 10,
   "id": "8e4139e9-1bfb-400d-90aa-c39ee73e4191",
   "metadata": {
    "execution": {
     "iopub.execute_input": "2024-04-17T04:50:41.869762Z",
     "iopub.status.busy": "2024-04-17T04:50:41.868761Z",
     "iopub.status.idle": "2024-04-17T04:50:41.924878Z",
     "shell.execute_reply": "2024-04-17T04:50:41.924878Z",
     "shell.execute_reply.started": "2024-04-17T04:50:41.869762Z"
    }
   },
   "outputs": [
    {
     "name": "stdout",
     "output_type": "stream",
     "text": [
      "trainable params: 3,899,392 || all params: 6,247,483,392 || trainable%: 0.06241540401681151\n"
     ]
    }
   ],
   "source": [
    "qlora_model = get_peft_model(kbit_model, lora_config)\n",
    "qlora_model.print_trainable_parameters()"
   ]
  },
  {
   "cell_type": "code",
   "execution_count": 11,
   "id": "3f818159-c3df-47f2-9dbe-cd238246bfd9",
   "metadata": {
    "execution": {
     "iopub.execute_input": "2024-04-17T04:50:44.521722Z",
     "iopub.status.busy": "2024-04-17T04:50:44.521722Z",
     "iopub.status.idle": "2024-04-17T04:50:44.524168Z",
     "shell.execute_reply": "2024-04-17T04:50:44.524168Z",
     "shell.execute_reply.started": "2024-04-17T04:50:44.521722Z"
    }
   },
   "outputs": [],
   "source": [
    "# QLoRA 微调模型\n",
    "\n",
    "import datetime\n",
    "\n",
    "timestamp = datetime.datetime.now().strftime(\"%Y%m%d_%H%M%S\")\n",
    "\n",
    "train_epochs = 3\n",
    "output_dir = f\"models/THUDM/chatglm3-6b-epoch{train_epochs}-{timestamp}\""
   ]
  },
  {
   "cell_type": "code",
   "execution_count": 12,
   "id": "57584084-7474-4a09-9d07-ee2c286294ba",
   "metadata": {
    "execution": {
     "iopub.execute_input": "2024-04-17T04:50:47.236391Z",
     "iopub.status.busy": "2024-04-17T04:50:47.236391Z",
     "iopub.status.idle": "2024-04-17T04:50:47.858990Z",
     "shell.execute_reply": "2024-04-17T04:50:47.858990Z",
     "shell.execute_reply.started": "2024-04-17T04:50:47.236391Z"
    }
   },
   "outputs": [
    {
     "name": "stderr",
     "output_type": "stream",
     "text": [
      "C:\\Users\\mtide\\miniconda3\\envs\\py311\\Lib\\site-packages\\accelerate\\accelerator.py:432: FutureWarning: Passing the following arguments to `Accelerator` is deprecated and will be removed in version 1.0 of Accelerate: dict_keys(['dispatch_batches', 'split_batches', 'even_batches', 'use_seedable_sampler']). Please pass an `accelerate.DataLoaderConfiguration` instead: \n",
      "dataloader_config = DataLoaderConfiguration(dispatch_batches=None, split_batches=False, even_batches=True, use_seedable_sampler=True)\n",
      "  warnings.warn(\n"
     ]
    }
   ],
   "source": [
    "from transformers import TrainingArguments, Trainer\n",
    "\n",
    "training_args = TrainingArguments(\n",
    "    output_dir=output_dir,                            # 输出目录\n",
    "    per_device_train_batch_size=8,                     # 每个设备的训练批量大小\n",
    "    gradient_accumulation_steps=1,                     # 梯度累积步数\n",
    "    learning_rate=1e-3,                                # 学习率\n",
    "    num_train_epochs=train_epochs,                     # 训练轮数\n",
    "    lr_scheduler_type=\"linear\",                        # 学习率调度器类型\n",
    "    warmup_ratio=0.1,                                  # 预热比例\n",
    "    logging_steps=1,                                 # 日志记录步数\n",
    "    save_strategy=\"steps\",                             # 模型保存策略\n",
    "    save_steps=10,                                    # 模型保存步数\n",
    "    optim=\"adamw_torch\",                               # 优化器类型\n",
    "    fp16=True,                                        # 是否使用混合精度训练\n",
    ")\n",
    "\n",
    "trainer = Trainer(\n",
    "    model=qlora_model,\n",
    "    args=training_args,\n",
    "    train_dataset=tokenized_dataset,\n",
    "    data_collator=data_collator\n",
    ")"
   ]
  },
  {
   "cell_type": "code",
   "execution_count": 13,
   "id": "f6d9f7d4-3937-4fa5-9895-e8a67bcae466",
   "metadata": {
    "execution": {
     "iopub.execute_input": "2024-04-17T04:50:51.268452Z",
     "iopub.status.busy": "2024-04-17T04:50:51.267452Z",
     "iopub.status.idle": "2024-04-17T05:20:52.581646Z",
     "shell.execute_reply": "2024-04-17T05:20:52.581646Z",
     "shell.execute_reply.started": "2024-04-17T04:50:51.268452Z"
    }
   },
   "outputs": [
    {
     "name": "stderr",
     "output_type": "stream",
     "text": [
      "wandb: Currently logged in as: eddiezhang (eddieorg). Use `wandb login --relogin` to force relogin\n"
     ]
    },
    {
     "data": {
      "application/vnd.jupyter.widget-view+json": {
       "model_id": "8e5ddbf93e1c42f89b2149cbd7b70f4e",
       "version_major": 2,
       "version_minor": 0
      },
      "text/plain": [
       "VBox(children=(Label(value='Waiting for wandb.init()...\\r'), FloatProgress(value=0.011288888888925108, max=1.0…"
      ]
     },
     "metadata": {},
     "output_type": "display_data"
    },
    {
     "data": {
      "text/html": [
       "Tracking run with wandb version 0.16.6"
      ],
      "text/plain": [
       "<IPython.core.display.HTML object>"
      ]
     },
     "metadata": {},
     "output_type": "display_data"
    },
    {
     "data": {
      "text/html": [
       "Run data is saved locally in <code>d:\\MTIDE\\code\\AI\\learning\\bochs-bs\\LLM-learning\\chatglm\\wandb\\run-20240417_125053-wq8yjttj</code>"
      ],
      "text/plain": [
       "<IPython.core.display.HTML object>"
      ]
     },
     "metadata": {},
     "output_type": "display_data"
    },
    {
     "data": {
      "text/html": [
       "Syncing run <strong><a href='https://wandb.ai/eddieorg/huggingface/runs/wq8yjttj' target=\"_blank\">distinctive-smoke-7</a></strong> to <a href='https://wandb.ai/eddieorg/huggingface' target=\"_blank\">Weights & Biases</a> (<a href='https://wandb.me/run' target=\"_blank\">docs</a>)<br/>"
      ],
      "text/plain": [
       "<IPython.core.display.HTML object>"
      ]
     },
     "metadata": {},
     "output_type": "display_data"
    },
    {
     "data": {
      "text/html": [
       " View project at <a href='https://wandb.ai/eddieorg/huggingface' target=\"_blank\">https://wandb.ai/eddieorg/huggingface</a>"
      ],
      "text/plain": [
       "<IPython.core.display.HTML object>"
      ]
     },
     "metadata": {},
     "output_type": "display_data"
    },
    {
     "data": {
      "text/html": [
       " View run at <a href='https://wandb.ai/eddieorg/huggingface/runs/wq8yjttj' target=\"_blank\">https://wandb.ai/eddieorg/huggingface/runs/wq8yjttj</a>"
      ],
      "text/plain": [
       "<IPython.core.display.HTML object>"
      ]
     },
     "metadata": {},
     "output_type": "display_data"
    },
    {
     "name": "stderr",
     "output_type": "stream",
     "text": [
      "D:\\MTIDE\\.cache\\huggingface\\modules\\transformers_modules\\chatglm3-6b\\modeling_chatglm.py:226: UserWarning: 1Torch was not compiled with flash attention. (Triggered internally at ..\\aten\\src\\ATen\\native\\transformers\\cuda\\sdp_utils.cpp:263.)\n",
      "  context_layer = torch.nn.functional.scaled_dot_product_attention(query_layer, key_layer, value_layer,\n"
     ]
    },
    {
     "data": {
      "text/html": [
       "\n",
       "    <div>\n",
       "      \n",
       "      <progress value='60' max='60' style='width:300px; height:20px; vertical-align: middle;'></progress>\n",
       "      [60/60 29:13, Epoch 3/3]\n",
       "    </div>\n",
       "    <table border=\"1\" class=\"dataframe\">\n",
       "  <thead>\n",
       " <tr style=\"text-align: left;\">\n",
       "      <th>Step</th>\n",
       "      <th>Training Loss</th>\n",
       "    </tr>\n",
       "  </thead>\n",
       "  <tbody>\n",
       "    <tr>\n",
       "      <td>1</td>\n",
       "      <td>4.526700</td>\n",
       "    </tr>\n",
       "    <tr>\n",
       "      <td>2</td>\n",
       "      <td>4.508800</td>\n",
       "    </tr>\n",
       "    <tr>\n",
       "      <td>3</td>\n",
       "      <td>4.366800</td>\n",
       "    </tr>\n",
       "    <tr>\n",
       "      <td>4</td>\n",
       "      <td>4.304000</td>\n",
       "    </tr>\n",
       "    <tr>\n",
       "      <td>5</td>\n",
       "      <td>4.166100</td>\n",
       "    </tr>\n",
       "    <tr>\n",
       "      <td>6</td>\n",
       "      <td>3.726400</td>\n",
       "    </tr>\n",
       "    <tr>\n",
       "      <td>7</td>\n",
       "      <td>3.620900</td>\n",
       "    </tr>\n",
       "    <tr>\n",
       "      <td>8</td>\n",
       "      <td>3.293000</td>\n",
       "    </tr>\n",
       "    <tr>\n",
       "      <td>9</td>\n",
       "      <td>3.190800</td>\n",
       "    </tr>\n",
       "    <tr>\n",
       "      <td>10</td>\n",
       "      <td>2.910600</td>\n",
       "    </tr>\n",
       "    <tr>\n",
       "      <td>11</td>\n",
       "      <td>2.537400</td>\n",
       "    </tr>\n",
       "    <tr>\n",
       "      <td>12</td>\n",
       "      <td>2.358300</td>\n",
       "    </tr>\n",
       "    <tr>\n",
       "      <td>13</td>\n",
       "      <td>2.174100</td>\n",
       "    </tr>\n",
       "    <tr>\n",
       "      <td>14</td>\n",
       "      <td>1.810100</td>\n",
       "    </tr>\n",
       "    <tr>\n",
       "      <td>15</td>\n",
       "      <td>1.503400</td>\n",
       "    </tr>\n",
       "    <tr>\n",
       "      <td>16</td>\n",
       "      <td>1.556900</td>\n",
       "    </tr>\n",
       "    <tr>\n",
       "      <td>17</td>\n",
       "      <td>1.261600</td>\n",
       "    </tr>\n",
       "    <tr>\n",
       "      <td>18</td>\n",
       "      <td>1.053900</td>\n",
       "    </tr>\n",
       "    <tr>\n",
       "      <td>19</td>\n",
       "      <td>0.831700</td>\n",
       "    </tr>\n",
       "    <tr>\n",
       "      <td>20</td>\n",
       "      <td>0.824100</td>\n",
       "    </tr>\n",
       "    <tr>\n",
       "      <td>21</td>\n",
       "      <td>0.598100</td>\n",
       "    </tr>\n",
       "    <tr>\n",
       "      <td>22</td>\n",
       "      <td>0.398700</td>\n",
       "    </tr>\n",
       "    <tr>\n",
       "      <td>23</td>\n",
       "      <td>0.330200</td>\n",
       "    </tr>\n",
       "    <tr>\n",
       "      <td>24</td>\n",
       "      <td>0.256200</td>\n",
       "    </tr>\n",
       "    <tr>\n",
       "      <td>25</td>\n",
       "      <td>0.182600</td>\n",
       "    </tr>\n",
       "    <tr>\n",
       "      <td>26</td>\n",
       "      <td>0.195600</td>\n",
       "    </tr>\n",
       "    <tr>\n",
       "      <td>27</td>\n",
       "      <td>0.110800</td>\n",
       "    </tr>\n",
       "    <tr>\n",
       "      <td>28</td>\n",
       "      <td>0.090300</td>\n",
       "    </tr>\n",
       "    <tr>\n",
       "      <td>29</td>\n",
       "      <td>0.061400</td>\n",
       "    </tr>\n",
       "    <tr>\n",
       "      <td>30</td>\n",
       "      <td>0.047800</td>\n",
       "    </tr>\n",
       "    <tr>\n",
       "      <td>31</td>\n",
       "      <td>0.039200</td>\n",
       "    </tr>\n",
       "    <tr>\n",
       "      <td>32</td>\n",
       "      <td>0.029500</td>\n",
       "    </tr>\n",
       "    <tr>\n",
       "      <td>33</td>\n",
       "      <td>0.043700</td>\n",
       "    </tr>\n",
       "    <tr>\n",
       "      <td>34</td>\n",
       "      <td>0.025800</td>\n",
       "    </tr>\n",
       "    <tr>\n",
       "      <td>35</td>\n",
       "      <td>0.023900</td>\n",
       "    </tr>\n",
       "    <tr>\n",
       "      <td>36</td>\n",
       "      <td>0.017800</td>\n",
       "    </tr>\n",
       "    <tr>\n",
       "      <td>37</td>\n",
       "      <td>0.014600</td>\n",
       "    </tr>\n",
       "    <tr>\n",
       "      <td>38</td>\n",
       "      <td>0.013300</td>\n",
       "    </tr>\n",
       "    <tr>\n",
       "      <td>39</td>\n",
       "      <td>0.016400</td>\n",
       "    </tr>\n",
       "    <tr>\n",
       "      <td>40</td>\n",
       "      <td>0.012200</td>\n",
       "    </tr>\n",
       "    <tr>\n",
       "      <td>41</td>\n",
       "      <td>0.010100</td>\n",
       "    </tr>\n",
       "    <tr>\n",
       "      <td>42</td>\n",
       "      <td>0.009100</td>\n",
       "    </tr>\n",
       "    <tr>\n",
       "      <td>43</td>\n",
       "      <td>0.008900</td>\n",
       "    </tr>\n",
       "    <tr>\n",
       "      <td>44</td>\n",
       "      <td>0.007900</td>\n",
       "    </tr>\n",
       "    <tr>\n",
       "      <td>45</td>\n",
       "      <td>0.007500</td>\n",
       "    </tr>\n",
       "    <tr>\n",
       "      <td>46</td>\n",
       "      <td>0.006900</td>\n",
       "    </tr>\n",
       "    <tr>\n",
       "      <td>47</td>\n",
       "      <td>0.006400</td>\n",
       "    </tr>\n",
       "    <tr>\n",
       "      <td>48</td>\n",
       "      <td>0.007400</td>\n",
       "    </tr>\n",
       "    <tr>\n",
       "      <td>49</td>\n",
       "      <td>0.005700</td>\n",
       "    </tr>\n",
       "    <tr>\n",
       "      <td>50</td>\n",
       "      <td>0.005800</td>\n",
       "    </tr>\n",
       "    <tr>\n",
       "      <td>51</td>\n",
       "      <td>0.005500</td>\n",
       "    </tr>\n",
       "    <tr>\n",
       "      <td>52</td>\n",
       "      <td>0.005700</td>\n",
       "    </tr>\n",
       "    <tr>\n",
       "      <td>53</td>\n",
       "      <td>0.005400</td>\n",
       "    </tr>\n",
       "    <tr>\n",
       "      <td>54</td>\n",
       "      <td>0.005300</td>\n",
       "    </tr>\n",
       "    <tr>\n",
       "      <td>55</td>\n",
       "      <td>0.005500</td>\n",
       "    </tr>\n",
       "    <tr>\n",
       "      <td>56</td>\n",
       "      <td>0.005100</td>\n",
       "    </tr>\n",
       "    <tr>\n",
       "      <td>57</td>\n",
       "      <td>0.004600</td>\n",
       "    </tr>\n",
       "    <tr>\n",
       "      <td>58</td>\n",
       "      <td>0.004800</td>\n",
       "    </tr>\n",
       "    <tr>\n",
       "      <td>59</td>\n",
       "      <td>0.004700</td>\n",
       "    </tr>\n",
       "    <tr>\n",
       "      <td>60</td>\n",
       "      <td>0.004700</td>\n",
       "    </tr>\n",
       "  </tbody>\n",
       "</table><p>"
      ],
      "text/plain": [
       "<IPython.core.display.HTML object>"
      ]
     },
     "metadata": {},
     "output_type": "display_data"
    },
    {
     "name": "stderr",
     "output_type": "stream",
     "text": [
      "C:\\Users\\mtide\\miniconda3\\envs\\py311\\Lib\\site-packages\\peft\\utils\\save_and_load.py:154: UserWarning: Could not find a config file in D:\\MTIDE\\code\\AI\\models\\THUDM\\chatglm3-6b - will assume that the vocabulary was not modified.\n",
      "  warnings.warn(\n",
      "C:\\Users\\mtide\\miniconda3\\envs\\py311\\Lib\\site-packages\\peft\\utils\\save_and_load.py:154: UserWarning: Could not find a config file in D:\\MTIDE\\code\\AI\\models\\THUDM\\chatglm3-6b - will assume that the vocabulary was not modified.\n",
      "  warnings.warn(\n",
      "C:\\Users\\mtide\\miniconda3\\envs\\py311\\Lib\\site-packages\\peft\\utils\\save_and_load.py:154: UserWarning: Could not find a config file in D:\\MTIDE\\code\\AI\\models\\THUDM\\chatglm3-6b - will assume that the vocabulary was not modified.\n",
      "  warnings.warn(\n",
      "C:\\Users\\mtide\\miniconda3\\envs\\py311\\Lib\\site-packages\\peft\\utils\\save_and_load.py:154: UserWarning: Could not find a config file in D:\\MTIDE\\code\\AI\\models\\THUDM\\chatglm3-6b - will assume that the vocabulary was not modified.\n",
      "  warnings.warn(\n",
      "C:\\Users\\mtide\\miniconda3\\envs\\py311\\Lib\\site-packages\\peft\\utils\\save_and_load.py:154: UserWarning: Could not find a config file in D:\\MTIDE\\code\\AI\\models\\THUDM\\chatglm3-6b - will assume that the vocabulary was not modified.\n",
      "  warnings.warn(\n",
      "C:\\Users\\mtide\\miniconda3\\envs\\py311\\Lib\\site-packages\\peft\\utils\\save_and_load.py:154: UserWarning: Could not find a config file in D:\\MTIDE\\code\\AI\\models\\THUDM\\chatglm3-6b - will assume that the vocabulary was not modified.\n",
      "  warnings.warn(\n"
     ]
    },
    {
     "data": {
      "text/plain": [
       "TrainOutput(global_step=60, training_loss=0.9526841989175107, metrics={'train_runtime': 1801.181, 'train_samples_per_second': 0.266, 'train_steps_per_second': 0.033, 'total_flos': 4649502945607680.0, 'train_loss': 0.9526841989175107, 'epoch': 3.0})"
      ]
     },
     "execution_count": 13,
     "metadata": {},
     "output_type": "execute_result"
    }
   ],
   "source": [
    "trainer.train()"
   ]
  },
  {
   "cell_type": "code",
   "execution_count": null,
   "id": "9e2a9832-0cb6-4277-b972-506c1dc33a62",
   "metadata": {
    "execution": {
     "iopub.status.busy": "2024-04-17T04:48:49.515601Z",
     "iopub.status.idle": "2024-04-17T04:48:49.515601Z",
     "shell.execute_reply": "2024-04-17T04:48:49.515601Z",
     "shell.execute_reply.started": "2024-04-17T04:48:49.515601Z"
    }
   },
   "outputs": [],
   "source": [
    "trainer.model.save_pretrained(output_dir)"
   ]
  },
  {
   "cell_type": "code",
   "execution_count": 1,
   "id": "ed37254d-5a41-4c74-80b5-26d7eb618b8f",
   "metadata": {
    "execution": {
     "iopub.execute_input": "2024-04-17T06:10:37.212618Z",
     "iopub.status.busy": "2024-04-17T06:10:37.211619Z",
     "iopub.status.idle": "2024-04-17T06:10:38.707001Z",
     "shell.execute_reply": "2024-04-17T06:10:38.707001Z",
     "shell.execute_reply.started": "2024-04-17T06:10:37.212618Z"
    }
   },
   "outputs": [],
   "source": [
    "# 模型推理\n",
    "\n",
    "# 使用 QLoRA 微调后的 ChatGLM-6B\n",
    "import torch\n",
    "from transformers import AutoModel, AutoTokenizer, BitsAndBytesConfig\n",
    "\n",
    "# 模型ID或本地路径\n",
    "# model_name_or_path = 'THUDM/chatglm3-6b'\n",
    "model_name_or_path = 'D:\\MTIDE\\code\\AI\\models\\THUDM\\chatglm3-6b'"
   ]
  },
  {
   "cell_type": "code",
   "execution_count": 2,
   "id": "2983911f-53c1-4b9a-922d-923dbcb2eb78",
   "metadata": {
    "execution": {
     "iopub.execute_input": "2024-04-17T06:10:54.405981Z",
     "iopub.status.busy": "2024-04-17T06:10:54.404980Z",
     "iopub.status.idle": "2024-04-17T06:11:11.318124Z",
     "shell.execute_reply": "2024-04-17T06:11:11.318124Z",
     "shell.execute_reply.started": "2024-04-17T06:10:54.404980Z"
    }
   },
   "outputs": [
    {
     "data": {
      "application/vnd.jupyter.widget-view+json": {
       "model_id": "baa351d785ec4dcfad62b2048404501b",
       "version_major": 2,
       "version_minor": 0
      },
      "text/plain": [
       "Loading checkpoint shards:   0%|          | 0/7 [00:00<?, ?it/s]"
      ]
     },
     "metadata": {},
     "output_type": "display_data"
    },
    {
     "data": {
      "text/plain": [
       "ChatGLMForConditionalGeneration(\n",
       "  (transformer): ChatGLMModel(\n",
       "    (embedding): Embedding(\n",
       "      (word_embeddings): Embedding(65024, 4096)\n",
       "    )\n",
       "    (rotary_pos_emb): RotaryEmbedding()\n",
       "    (encoder): GLMTransformer(\n",
       "      (layers): ModuleList(\n",
       "        (0-27): 28 x GLMBlock(\n",
       "          (input_layernorm): RMSNorm()\n",
       "          (self_attention): SelfAttention(\n",
       "            (query_key_value): Linear4bit(in_features=4096, out_features=4608, bias=True)\n",
       "            (core_attention): CoreAttention(\n",
       "              (attention_dropout): Dropout(p=0.0, inplace=False)\n",
       "            )\n",
       "            (dense): Linear4bit(in_features=4096, out_features=4096, bias=False)\n",
       "          )\n",
       "          (post_attention_layernorm): RMSNorm()\n",
       "          (mlp): MLP(\n",
       "            (dense_h_to_4h): Linear4bit(in_features=4096, out_features=27392, bias=False)\n",
       "            (dense_4h_to_h): Linear4bit(in_features=13696, out_features=4096, bias=False)\n",
       "          )\n",
       "        )\n",
       "      )\n",
       "      (final_layernorm): RMSNorm()\n",
       "    )\n",
       "    (output_layer): Linear(in_features=4096, out_features=65024, bias=False)\n",
       "  )\n",
       ")"
      ]
     },
     "execution_count": 2,
     "metadata": {},
     "output_type": "execute_result"
    }
   ],
   "source": [
    "_compute_dtype_map = {\n",
    "    'fp32': torch.float32,\n",
    "    'fp16': torch.float16,\n",
    "    'bf16': torch.bfloat16\n",
    "}\n",
    "\n",
    "# QLoRA 量化配置\n",
    "q_config = BitsAndBytesConfig(load_in_4bit=True,\n",
    "                              bnb_4bit_quant_type='nf4',\n",
    "                              bnb_4bit_use_double_quant=True,\n",
    "                              bnb_4bit_compute_dtype=_compute_dtype_map['bf16'])\n",
    "\n",
    "# 加载量化后模型(与微调的 revision 保持一致）\n",
    "base_model = AutoModel.from_pretrained(model_name_or_path,\n",
    "                                      quantization_config=q_config,\n",
    "                                      device_map='auto',\n",
    "                                      trust_remote_code=True,\n",
    "                                      revision='b098244')\n",
    "\n",
    "base_model.requires_grad_(False)\n",
    "base_model.eval()"
   ]
  },
  {
   "cell_type": "code",
   "execution_count": 3,
   "id": "a0cc76f6-6ee3-47a5-a638-5de8dc55ec48",
   "metadata": {
    "execution": {
     "iopub.execute_input": "2024-04-17T06:13:40.815643Z",
     "iopub.status.busy": "2024-04-17T06:13:40.815643Z",
     "iopub.status.idle": "2024-04-17T06:13:40.906159Z",
     "shell.execute_reply": "2024-04-17T06:13:40.906159Z",
     "shell.execute_reply.started": "2024-04-17T06:13:40.815643Z"
    }
   },
   "outputs": [
    {
     "name": "stderr",
     "output_type": "stream",
     "text": [
      "Setting eos_token is not supported, use the default one.\n",
      "Setting pad_token is not supported, use the default one.\n",
      "Setting unk_token is not supported, use the default one.\n"
     ]
    }
   ],
   "source": [
    "tokenizer = AutoTokenizer.from_pretrained(model_name_or_path,\n",
    "                                          trust_remote_code=True,\n",
    "                                          revision='b098244')"
   ]
  },
  {
   "cell_type": "code",
   "execution_count": 4,
   "id": "406c75e2-cb47-4ac5-952e-6205fac41a1f",
   "metadata": {
    "execution": {
     "iopub.execute_input": "2024-04-17T06:13:45.347588Z",
     "iopub.status.busy": "2024-04-17T06:13:45.346587Z",
     "iopub.status.idle": "2024-04-17T06:13:59.264251Z",
     "shell.execute_reply": "2024-04-17T06:13:59.264251Z",
     "shell.execute_reply.started": "2024-04-17T06:13:45.347588Z"
    }
   },
   "outputs": [
    {
     "name": "stderr",
     "output_type": "stream",
     "text": [
      "C:\\Users\\mtide\\.cache\\huggingface\\modules\\transformers_modules\\chatglm3-6b\\modeling_chatglm.py:226: UserWarning: 1Torch was not compiled with flash attention. (Triggered internally at ..\\aten\\src\\ATen\\native\\transformers\\cuda\\sdp_utils.cpp:263.)\n",
      "  context_layer = torch.nn.functional.scaled_dot_product_attention(query_layer, key_layer, value_layer,\n"
     ]
    },
    {
     "name": "stdout",
     "output_type": "stream",
     "text": [
      "乾卦是《易经》中的第一卦，也是八卦之一。乾卦是由两个阴爻夹一个阳爻构成，象征着天、强、积极、刚毅、正义等含义。\n",
      "\n",
      "乾卦的卦辞是“元、亨、利、贞”，其中“元”表示至高无上的道德原则，“亨”表示通，顺利，“利”表示有益，“贞”表示正。这些词语体现了乾卦所代表的正义、积极和刚毅的品质。\n",
      "\n",
      "在《易经》中，乾卦的五行属性是“木”，与肝脏、筋和角相对应。同时，乾卦也与春季、东方、木element以及男性等有关。\n",
      "\n",
      "乾卦的含义是，当面临困难或挑战时，我们应该保持积极的态度，勇敢地面对问题，寻求解决办法，并坚持正义的原则，最终达到成功。\n",
      "讼卦是《易经》中的第五卦，也是八卦之一。讼卦由两个阳爻夹一个阴爻构成，象征着诉讼、争端、矛盾和困扰等含义。\n",
      "\n",
      "讼卦的卦辞是“天ult、无乃、贞、好、元”，其中“天ult”表示天意，意为天意难以预测；“无乃”表示不是吗，“贞”表示正，“好”表示美好，“元”表示至高无上的道德原则。这些词语体现了讼卦所代表的矛盾、困扰和困扰中的正义和公正。\n",
      "\n",
      "在《易经》中，讼卦的五行属性是“火”，与心脏、是小肠和南方相对应。同时，讼卦也与诉讼、争端、矛盾和困扰等有关。\n",
      "\n",
      "讼卦的含义是，当面临矛盾和困扰时，我们应该保持冷静和理智，寻求和平解决办法，避免争端和诉讼。在处理问题时，我们应该遵循正义和公正的原则，以达到最终的美好结果。\n"
     ]
    }
   ],
   "source": [
    "# 使用原始 ChatGLM3-6B 模型\n",
    "input_text = \"解释下乾卦是什么？\"\n",
    "response, history = base_model.chat(tokenizer, query=input_text)\n",
    "print(response)\n",
    "\n",
    "response, history = base_model.chat(tokenizer, query=\"周易中的讼卦是什么？\", history=history)\n",
    "print(response)"
   ]
  },
  {
   "cell_type": "code",
   "execution_count": 8,
   "id": "782b1be4-aa2e-416d-95aa-d64382e2a528",
   "metadata": {
    "execution": {
     "iopub.execute_input": "2024-04-17T06:15:45.862518Z",
     "iopub.status.busy": "2024-04-17T06:15:45.862518Z",
     "iopub.status.idle": "2024-04-17T06:15:45.932259Z",
     "shell.execute_reply": "2024-04-17T06:15:45.932259Z",
     "shell.execute_reply.started": "2024-04-17T06:15:45.862518Z"
    }
   },
   "outputs": [],
   "source": [
    "# 使用微调后的 ChatGLM3-6B\n",
    "from peft import PeftModel, PeftConfig\n",
    "\n",
    "epochs = 3\n",
    "# timestamp = \"20240118_164514\"\n",
    "timestamp = \"20240417_125044\"\n",
    "\n",
    "peft_model_path = f\"models/THUDM/chatglm3-6b-epoch{epochs}-{timestamp}\"\n",
    "\n",
    "config = PeftConfig.from_pretrained(peft_model_path)\n",
    "qlora_model = PeftModel.from_pretrained(base_model, peft_model_path)\n",
    "training_tag=f\"ChatGLM3-6B(Epoch=3, automade-dataset(fixed))-{timestamp}\""
   ]
  },
  {
   "cell_type": "code",
   "execution_count": 9,
   "id": "74859767-404a-4ca5-bc13-0212d11a5b87",
   "metadata": {
    "execution": {
     "iopub.execute_input": "2024-04-17T06:16:07.562172Z",
     "iopub.status.busy": "2024-04-17T06:16:07.561173Z",
     "iopub.status.idle": "2024-04-17T06:16:07.568411Z",
     "shell.execute_reply": "2024-04-17T06:16:07.568411Z",
     "shell.execute_reply.started": "2024-04-17T06:16:07.562172Z"
    }
   },
   "outputs": [],
   "source": [
    "def compare_chatglm_results(query, base_model, qlora_model, training_tag):\n",
    "    base_response, base_history = base_model.chat(tokenizer, query)\n",
    "\n",
    "    inputs = tokenizer(query, return_tensors=\"pt\").to(0)\n",
    "    ft_out = qlora_model.generate(**inputs, max_new_tokens=512)\n",
    "    ft_response = tokenizer.decode(ft_out[0], skip_special_tokens=True)\n",
    "    \n",
    "    print(f\"问题：{query}\\n\\n原始输出：\\n{base_response}\\n\\n\\n微调后（{training_tag}）：\\n{ft_response}\")\n",
    "    return base_response, ft_response"
   ]
  },
  {
   "cell_type": "code",
   "execution_count": 10,
   "id": "14fe214a-f1de-4eb8-bfa8-4de67b353bb5",
   "metadata": {
    "execution": {
     "iopub.execute_input": "2024-04-17T06:16:10.735275Z",
     "iopub.status.busy": "2024-04-17T06:16:10.733592Z",
     "iopub.status.idle": "2024-04-17T06:16:22.095590Z",
     "shell.execute_reply": "2024-04-17T06:16:22.095590Z",
     "shell.execute_reply.started": "2024-04-17T06:16:10.734768Z"
    }
   },
   "outputs": [
    {
     "name": "stdout",
     "output_type": "stream",
     "text": [
      "问题：解释下乾卦是什么？\n",
      "\n",
      "原始输出：\n",
      "{'name': '乾卦是周易中的一卦，由两个乾卦叠加而成，代表天卦。它象征着健立，刚健，自强不息的意义。乾卦的核心哲学是：天行健，君子自强不息。乾卦的解释是：健 spec', 'content': '\\n动 1. 初六：吉，无不利。 spec\\n\\n动 2. 七五：吉 critical\\n\\n动 3. 九一：大吉，德高望检\\n\\n行动：君子观此卦象，应当自强不息，努力不懈，以达到化险为夷的目的。在事业上，应当勇敢自强，努力进取，不可止步不前。在经商中，应当自强不息，积极进取，止于至善，德高望检。在决策中，应当自强不息，勤勉努力，追求至善至美。'}\n",
      "\n",
      "\n",
      "微调后（ChatGLM3-6B(Epoch=3, automade-dataset(fixed))-20240417_125044）：\n",
      "[gMASK] sop 解释下乾卦是什么？ 在周易中，乾卦是六十四卦之首，由六个阳爻组成，象征着天。它所代表的是刚健、健行、刚健不屈的意境。乾卦的核心哲学是：天道刚健，运行不已，君子观此卦象，从而以天为法，自强不息。\n",
      "\n",
      "乾卦象征天，为大通而至正。得此卦者，名利双收，应把握机会，争取成果。然而，切勿过于骄傲自满，而应保持谦逊、冷静和警惕。在事业、经商、求名等方面，乾卦皆暗示着大吉大利，但也警示着必须坚持正道、修养德行，方能永远亨通。\n",
      "\n",
      "在婚恋方面，乾卦提示着阳盛阴衰，但也强调刚柔相济，相互补足，形成美满的结果。在决策方面，则是强调刚健、正直、公允，自强不息的实质，需要修养德行、坚定信念，方能克服困难，消除灾难。\n"
     ]
    }
   ],
   "source": [
    "# 微调前后效果对比\n",
    "\n",
    "base_response, ft_response = compare_chatglm_results(\"解释下乾卦是什么？\", base_model, qlora_model, training_tag)"
   ]
  },
  {
   "cell_type": "code",
   "execution_count": 11,
   "id": "93f6b53a-dbda-4c74-9bdf-dd94cf2b0547",
   "metadata": {
    "execution": {
     "iopub.execute_input": "2024-04-17T06:23:02.710679Z",
     "iopub.status.busy": "2024-04-17T06:23:02.709680Z",
     "iopub.status.idle": "2024-04-17T06:23:13.115702Z",
     "shell.execute_reply": "2024-04-17T06:23:13.115702Z",
     "shell.execute_reply.started": "2024-04-17T06:23:02.710679Z"
    }
   },
   "outputs": [
    {
     "name": "stdout",
     "output_type": "stream",
     "text": [
      "问题：周易中的讼卦是什么\n",
      "\n",
      "原始输出：\n",
      "讼卦是由上卦乾（天）和下卦坎（水）组成的卦象，代表着诉讼和纷争。在这个卦象中，天代表着刚强，坎代表着柔和。因此，卦象中刚强与柔和相互对立，互不相让，导致了卦象中的矛盾和纷争。然而，虽然讼卦表象的是冲突和争端，但实际上，天道是公允的，只要时机成熟，就会得到解决。因此，应当等待时机，同时也要坚持正道，积极行动，才能化解争端，化解矛盾。\n",
      "\n",
      "\n",
      "微调后（ChatGLM3-6B(Epoch=3, automade-dataset(fixed))-20240417_125044）：\n",
      "[gMASK] sop 周易中的讼卦是什么样子 讼卦是一个由上卦乾（天）和下卦坎（水）组成的卦象。它代表着诉讼和纠纷。在这个卦象中，天代表着刚健和健行，坎代表着柔顺和适应。因此，解决讼卦的问题需要既刚健又柔顺，同时也需要适应情况，才能获得美好的结果。\n",
      "\n",
      "讼卦的核心哲学是：天行健，君子拟天行健；水自流，君子拟水自流。这意味着君子应当效法天行健的刚健，以及水自流般的柔顺。在解决纷争诉讼的问题时，需要双方都能理解和适应，才能获得美好的结果。\n",
      "\n",
      "对于君子来说，解决讼卦的问题需要既有刚健的品德，又有柔顺的品性。在处理诉讼时，需要顺应天意，根据情况灵活应对。对于是非对错的问题，需要以德服人，用正义来解决。\n",
      "\n",
      "讼卦虽然不是一个吉卦，但它提示了解决纷争诉讼的问题需要刚健和柔顺的结合。在处理诉讼时，需要适应情况，根据天意和道义来解决。\n"
     ]
    }
   ],
   "source": [
    "base_response, ft_response = compare_chatglm_results(\"周易中的讼卦是什么\", base_model, qlora_model, training_tag)"
   ]
  },
  {
   "cell_type": "code",
   "execution_count": 12,
   "id": "ffbfa26a-3405-4f50-bee4-ca4c34c4be28",
   "metadata": {
    "execution": {
     "iopub.execute_input": "2024-04-17T06:23:14.757949Z",
     "iopub.status.busy": "2024-04-17T06:23:14.756949Z",
     "iopub.status.idle": "2024-04-17T06:23:26.303537Z",
     "shell.execute_reply": "2024-04-17T06:23:26.303537Z",
     "shell.execute_reply.started": "2024-04-17T06:23:14.757949Z"
    }
   },
   "outputs": [
    {
     "name": "stdout",
     "output_type": "stream",
     "text": [
      "问题：师卦是什么？\n",
      "\n",
      "原始输出：\n",
      "{'name': '师卦是由坎卦（水）和坤卦（地）相叠而成的异卦。在周易中，这是唯一一种由两个卦相异的卦象，也是唯一一个由地卦和坎卦相异的卦象。地卦象征着 earth，坎卦象征着 stream，象征着连通之意，因此，师卦象征着 stream that connects，意味着地中有水，鱼跃泉出的景象。师卦预示着吉祥，但 also预示着警惕，因为地中虽然有水，但也有可能出现危险。师卦的核心在于君子观此卦象，从而得到启示，并采取相应的行动。', 'content': '\\n师卦象征着吉祥，但 also需要注意风险。君子观此卦象，可以得到启示，并采取相应的行动。在事业方面，预示着吉祥，务必谨慎行事，小心谨慎地开展事业。在婚姻方面，象征着吉祥，务必小心谨慎地处理婚姻事务。在经商方面，也预示着吉祥，但务必小心谨慎行事，注意安全，同时，也需注意 financial危险。师卦的核心在于，必须小心的处理连通之事，但也需要勇敢地向前，勇敢迎接挑战。'}\n",
      "\n",
      "\n",
      "微调后（ChatGLM3-6B(Epoch=3, automade-dataset(fixed))-20240417_125044）：\n",
      "[gMASK] sop 师卦是什么？ 师卦是由坎卦（水）和坤卦（地）相叠而成的异卦。在周易中，这是唯一一种由两个卦象组成的卦象，代表着军队的力量和军情的总指挥。师卦预示着吉祥无灾，但预示着君子谨慎行事，做好各项工作的安排，等待时机。\n",
      "\n",
      "坎卦象征着水，代表着灵活、适应、灵活调整；坤卦象征着地，代表着稳定、安顺、稳定。两者相结合，意味着安全、吉祥、顺利，但也提示着前进勿忘观法（犹若行船），做好规划。\n",
      "\n",
      "师卦的核心哲学是：时机成熟，行动之前要谋略、计划和行动要迅速、灵活适应，方能顺利成功。在事业、经商、求名、婚恋等方面的决策中，都需要谨慎行事，做好规划，等待时机，方能成功。\n"
     ]
    }
   ],
   "source": [
    "base_response, ft_response = compare_chatglm_results(\"师卦是什么？\", base_model, qlora_model, training_tag)"
   ]
  },
  {
   "cell_type": "code",
   "execution_count": null,
   "id": "f971f6f6-ad0d-48e2-a0ea-b4cfda549806",
   "metadata": {},
   "outputs": [],
   "source": []
  }
 ],
 "metadata": {
  "kernelspec": {
   "display_name": "py311",
   "language": "python",
   "name": "py311"
  },
  "language_info": {
   "codemirror_mode": {
    "name": "ipython",
    "version": 3
   },
   "file_extension": ".py",
   "mimetype": "text/x-python",
   "name": "python",
   "nbconvert_exporter": "python",
   "pygments_lexer": "ipython3",
   "version": "3.11.8"
  }
 },
 "nbformat": 4,
 "nbformat_minor": 5
}
